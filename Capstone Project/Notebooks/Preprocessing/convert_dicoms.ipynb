{
 "cells": [
  {
   "cell_type": "code",
   "execution_count": null,
   "id": "3d637c10-ba03-416a-a29f-78a175448477",
   "metadata": {},
   "outputs": [],
   "source": [
    "import pydicom as dcm\n",
    "import numpy as np\n",
    "import pandas as pd\n",
    "import os\n",
    "from tqdm import tqdm\n",
    "import sys\n",
    "import tensorflow as tf\n",
    "from joblib import Parallel, delayed\n",
    "import PIL\n",
    "from PIL import Image\n",
    "import multiprocessing as mp\n",
    "import warnings"
   ]
  },
  {
   "cell_type": "code",
   "execution_count": null,
   "id": "7dfeecf6-2e28-4c15-b74e-d43b032a0808",
   "metadata": {},
   "outputs": [],
   "source": [
    "img_dir_train = '/home/jupyter/rsna-intracranial-hemorrhage-detection/stage_2_train/'\n",
    "png_dir_train = '/home/jupyter/rsna-intracranial-hemorrhage-detection/stage_2_train_imgs/'\n",
    "img_dir_test = '/home/jupyter/rsna-intracranial-hemorrhage-detection/stage_2_test/'\n",
    "png_dir_test = '/home/jupyter/rsna-intracranial-hemorrhage-detection/stage_2_test_imgs/'\n",
    "n_err = 0\n",
    "warnings.filterwarnings('ignore')"
   ]
  },
  {
   "cell_type": "code",
   "execution_count": null,
   "id": "ecbefd86-1cdc-467c-bd31-ffacdb5b9ccd",
   "metadata": {},
   "outputs": [],
   "source": [
    "def get_center_and_width(dicom):\n",
    "    return tuple([int(x[0]) if type(x) == dcm.multival.MultiValue else int(x) for x in [dicom.WindowCenter, dicom.WindowWidth]])\n",
    "def normalize_minmax(img):\n",
    "    mi, ma = img.min(), img.max()\n",
    "    if mi == ma:\n",
    "        return img-mi\n",
    "    return (img - mi) / (ma - mi)\n",
    "\n",
    "def window_filter(img, center, width, slope, intercept):\n",
    "    out = np.copy(img)\n",
    "    out = out*slope + intercept\n",
    "    lowest_visible = center - width//2\n",
    "    highest_visible = center + width//2\n",
    "    \n",
    "    out[out < lowest_visible] = lowest_visible\n",
    "    out[out > highest_visible] = highest_visible\n",
    "    return normalize_minmax(out) * 255\n",
    "\n",
    "def get_img_tensor(img_path):\n",
    "    dicom = dcm.dcmread(img_path, force=True)\n",
    "    \n",
    "    img = dicom.pixel_array\n",
    "    center, width = get_center_and_width(dicom)\n",
    "    slope, intercept = dicom.RescaleSlope, dicom.RescaleIntercept\n",
    "    brain = window_filter(img, 40, 80, slope, intercept)\n",
    "    subdural = window_filter(img, 80, 200, slope, intercept)\n",
    "    tissue = window_filter(img, 40, 380, slope, intercept)\n",
    "    \n",
    "    return np.stack([brain, subdural, tissue], axis=2).astype(np.int8)\n",
    "\n",
    "def write_to_png(img_id, png_dir, img_dir):\n",
    "    global n_err\n",
    "    try:\n",
    "        img_array = get_img_tensor(img_dir+img_id+'.dcm')\n",
    "        if img_array.shape == (512,512,3):\n",
    "            img = Image.fromarray(img_array, 'RGB')\n",
    "            img.save(png_dir+img_id+'.png')\n",
    "            # os.remove(img_dir+img_name)\n",
    "        else:\n",
    "            n_err += 1\n",
    "    except Exception as e:\n",
    "        n_err += 1\n",
    "\n",
    "def write_all_to_png(png_dir, img_dir):\n",
    "    present = set(map(lambda x: x.split('.')[0], os.listdir(png_dir)))\n",
    "    total = set(map(lambda x: x.split('.')[0], os.listdir(img_dir)))\n",
    "    to_compute = list(total.difference(present))\n",
    "    _ = Parallel(n_jobs=-1)(delayed(write_to_png)(img_name, png_dir, img_dir) for img_name in tqdm(to_compute))        "
   ]
  },
  {
   "cell_type": "code",
   "execution_count": null,
   "id": "188bf4b3-4484-4481-aa5c-a55569531b30",
   "metadata": {},
   "outputs": [],
   "source": [
    "write_all_to_png(png_dir_train, img_dir_train)"
   ]
  },
  {
   "cell_type": "code",
   "execution_count": null,
   "id": "4557adc1-b3dc-440e-85e1-94a2ce858577",
   "metadata": {},
   "outputs": [],
   "source": [
    "write_all_to_png(png_dir_test, img_dir_test)"
   ]
  },
  {
   "cell_type": "code",
   "execution_count": null,
   "id": "480a55c1-62d9-4988-a086-af3574df25e0",
   "metadata": {},
   "outputs": [],
   "source": [
    "print(f'{n_err} errors')"
   ]
  }
 ],
 "metadata": {
  "environment": {
   "kernel": "python3",
   "name": "tf2-gpu.2-7.m87",
   "type": "gcloud",
   "uri": "gcr.io/deeplearning-platform-release/tf2-gpu.2-7:m87"
  },
  "kernelspec": {
   "display_name": "Python 3",
   "language": "python",
   "name": "python3"
  },
  "language_info": {
   "codemirror_mode": {
    "name": "ipython",
    "version": 3
   },
   "file_extension": ".py",
   "mimetype": "text/x-python",
   "name": "python",
   "nbconvert_exporter": "python",
   "pygments_lexer": "ipython3",
   "version": "3.7.12"
  }
 },
 "nbformat": 4,
 "nbformat_minor": 5
}
