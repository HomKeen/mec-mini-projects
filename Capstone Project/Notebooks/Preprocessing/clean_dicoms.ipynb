{
 "cells": [
  {
   "cell_type": "markdown",
   "id": "a32d2ecc-a440-4a3a-a59a-43590ab1bd77",
   "metadata": {},
   "source": [
    "This notebook should be run immediately after unzipping the RSNA files"
   ]
  },
  {
   "cell_type": "code",
   "execution_count": 6,
   "id": "6cf3d347-338a-4f98-af2f-f2358f1a18f1",
   "metadata": {},
   "outputs": [],
   "source": [
    "import numpy as np\n",
    "import pydicom as dcm\n",
    "import os\n",
    "from tqdm import tqdm\n",
    "from PIL import Image\n",
    "from joblib import Parallel, delayed"
   ]
  },
  {
   "cell_type": "code",
   "execution_count": 7,
   "id": "594e39db-fd9d-42dd-b68a-f6974cfcdb17",
   "metadata": {},
   "outputs": [],
   "source": [
    "orig_train_img_dir = '/home/jupyter/rsna-intracranial-hemorrhage-detection/stage_2_train/'\n",
    "# train_img_dir = '/home/jupyter/rsna-intracranial-hemorrhage-detection/stage_2_train_imgs/'"
   ]
  },
  {
   "cell_type": "code",
   "execution_count": 8,
   "id": "6acda78f-8edc-4e03-b594-696d5ab8aaed",
   "metadata": {},
   "outputs": [],
   "source": [
    "n_err = 0\n",
    "def is_invalid(img_path):\n",
    "    try:\n",
    "        dicom = dcm.dcmread(img_path, force=True)\n",
    "        if dicom.pixel_array.shape != (512, 512):\n",
    "            return True\n",
    "        return False\n",
    "    except:\n",
    "        return True\n",
    "    \n",
    "def remove_if_invalid(img_path):\n",
    "    if is_invalid(img_path):\n",
    "        os.remove(img_path)\n",
    "        return 1\n",
    "    return 0"
   ]
  },
  {
   "cell_type": "code",
   "execution_count": 4,
   "id": "81230f6d-b27e-4ef2-9b54-8ee79e290e40",
   "metadata": {},
   "outputs": [
    {
     "name": "stderr",
     "output_type": "stream",
     "text": [
      "100%|██████████| 752780/752780 [10:44<00:00, 1167.78it/s]\n"
     ]
    }
   ],
   "source": [
    "# n_err = sum(is_invalid(orig_train_img_dir+img_name) for img_name in tqdm(os.listdir(orig_train_img_dir)))\n",
    "n_err = sum(Parallel(n_jobs=-1)(delayed(remove_if_invalid)(orig_train_img_dir+img_name) for img_name in tqdm(os.listdir(orig_train_img_dir))))"
   ]
  },
  {
   "cell_type": "code",
   "execution_count": 5,
   "id": "25948694-8933-4bc4-afd2-83adbd67c361",
   "metadata": {},
   "outputs": [
    {
     "data": {
      "text/plain": [
       "259"
      ]
     },
     "execution_count": 5,
     "metadata": {},
     "output_type": "execute_result"
    }
   ],
   "source": [
    "n_err"
   ]
  }
 ],
 "metadata": {
  "environment": {
   "kernel": "python3",
   "name": "tf2-gpu.2-7.m87",
   "type": "gcloud",
   "uri": "gcr.io/deeplearning-platform-release/tf2-gpu.2-7:m87"
  },
  "kernelspec": {
   "display_name": "Python 3",
   "language": "python",
   "name": "python3"
  },
  "language_info": {
   "codemirror_mode": {
    "name": "ipython",
    "version": 3
   },
   "file_extension": ".py",
   "mimetype": "text/x-python",
   "name": "python",
   "nbconvert_exporter": "python",
   "pygments_lexer": "ipython3",
   "version": "3.7.12"
  }
 },
 "nbformat": 4,
 "nbformat_minor": 5
}
