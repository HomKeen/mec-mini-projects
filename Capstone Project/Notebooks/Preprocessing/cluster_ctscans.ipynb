{
 "cells": [
  {
   "cell_type": "markdown",
   "id": "437bffe6-ec74-42af-86d5-6ea644e25ffd",
   "metadata": {},
   "source": [
    "This notebook will assemble all DICOM slices that belong the a CT scan, and write out their image IDs along with the patient ID to a CSV file."
   ]
  },
  {
   "cell_type": "code",
   "execution_count": 2,
   "id": "f931e4ed-fed2-46e1-bc2f-13bed490bbc8",
   "metadata": {},
   "outputs": [],
   "source": [
    "import pydicom as dcm\n",
    "import os\n",
    "from matplotlib import pyplot as plt\n",
    "from joblib import Parallel, delayed\n",
    "from tqdm import tqdm\n",
    "import csv"
   ]
  },
  {
   "cell_type": "code",
   "execution_count": 3,
   "id": "34504c49-2562-413f-ba4b-018ec123265f",
   "metadata": {},
   "outputs": [],
   "source": [
    "in_path_train = '/home/jupyter/rsna-intracranial-hemorrhage-detection/stage_2_train/'\n",
    "in_path_test = '/home/jupyter/rsna-intracranial-hemorrhage-detection/stage_2_test/'\n",
    "\n",
    "out_file_train_scans = '/home/jupyter/rsna-intracranial-hemorrhage-detection/train_ct_scans.csv'\n",
    "out_file_test_scans = '/home/jupyter/rsna-intracranial-hemorrhage-detection/test_ct_scans.csv'\n",
    "out_file_train_coords = '/home/jupyter/rsna-intracranial-hemorrhage-detection/train_ct_coords.csv'\n",
    "out_file_test_coords = '/home/jupyter/rsna-intracranial-hemorrhage-detection/test_ct_coords.csv'"
   ]
  },
  {
   "cell_type": "code",
   "execution_count": 5,
   "id": "d931483d-a7e5-4e95-9316-c3e991fb4d4b",
   "metadata": {},
   "outputs": [
    {
     "name": "stdout",
     "output_type": "stream",
     "text": [
      "752521\n"
     ]
    }
   ],
   "source": [
    "scans = {}\n",
    "img_coords = []\n",
    "\n",
    "total = set()\n",
    "with open(out_file_train_scans, 'r') as f:\n",
    "    line = f.readline()\n",
    "    while line:\n",
    "        total.update(line.split(',')[1:])\n",
    "        line = f.readline()\n",
    "        \n",
    "print(len(total))"
   ]
  },
  {
   "cell_type": "code",
   "execution_count": null,
   "id": "04a9c355-6be6-42ff-b292-819c63eb28ff",
   "metadata": {},
   "outputs": [],
   "source": [
    "def add_scans_and_process_coord(img_dir, img_name):\n",
    "    d = dcm.dcmread(img_dir + img_name)\n",
    "    img_id, patient_id = img_name.split('.')[0], d.PatientID\n",
    "    coords = list(d.ImagePositionPatient)\n",
    "    img_coords.append([img_id] + coords)\n",
    "    \n",
    "    del coords, d\n",
    "    if patient_id in scans:\n",
    "        scans[patient_id].append(img_id)\n",
    "    else:\n",
    "        scans[patient_id] = [img_id]\n",
    "    del img_id, patient_id\n",
    "\n",
    "def write_scans_and_coords(img_dir, scans_path, coords_path):\n",
    "    _ = Parallel(n_jobs=-1, backend='threading', batch_size=5, require='sharedmem')(delayed(add_scans_and_process_coord)(img_dir, img_file_name) for img_file_name in tqdm(os.listdir(img_dir)))\n",
    "    #write scans\n",
    "    with open(scans_path, 'w') as output:\n",
    "        writer = csv.writer(output)\n",
    "        print(f'Writing scans to {scans_path}')\n",
    "        for patient_id in tqdm(scans):\n",
    "            writer.writerow([patient_id] + scans[patient_id])\n",
    "    \n",
    "    #write coords\n",
    "    with open(coords_path, 'w') as output:\n",
    "        writer = csv.writer(output)\n",
    "        print(f'Writing coords to {coords_path}')\n",
    "        for row in tqdm(img_coords):\n",
    "            writer.writerow(row)"
   ]
  },
  {
   "cell_type": "code",
   "execution_count": null,
   "id": "6bbc0f52-2f93-4517-95cc-78f00cc6834c",
   "metadata": {},
   "outputs": [],
   "source": [
    "write_scans_and_coords(in_path_train, out_file_train_scans, out_file_train_coords)"
   ]
  },
  {
   "cell_type": "code",
   "execution_count": null,
   "id": "30e07342-6fa4-41fd-ac76-6b5df0f2dd49",
   "metadata": {},
   "outputs": [],
   "source": [
    "write_scans_and_coords(in_path_test, out_file_test_scans, out_file_test_coords)"
   ]
  }
 ],
 "metadata": {
  "environment": {
   "kernel": "python3",
   "name": "tf2-gpu.2-7.m87",
   "type": "gcloud",
   "uri": "gcr.io/deeplearning-platform-release/tf2-gpu.2-7:m87"
  },
  "kernelspec": {
   "display_name": "Python 3",
   "language": "python",
   "name": "python3"
  },
  "language_info": {
   "codemirror_mode": {
    "name": "ipython",
    "version": 3
   },
   "file_extension": ".py",
   "mimetype": "text/x-python",
   "name": "python",
   "nbconvert_exporter": "python",
   "pygments_lexer": "ipython3",
   "version": "3.7.12"
  }
 },
 "nbformat": 4,
 "nbformat_minor": 5
}
