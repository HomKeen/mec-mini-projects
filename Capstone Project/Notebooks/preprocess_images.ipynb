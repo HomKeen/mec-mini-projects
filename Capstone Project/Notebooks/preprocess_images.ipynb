{
 "cells": [
  {
   "cell_type": "code",
   "execution_count": null,
   "id": "7b2a3538-091f-4a65-8de8-6ac4bfc8da67",
   "metadata": {},
   "outputs": [],
   "source": [
    "import tensorflow as tf\n",
    "import pydicom as dcm\n",
    "import numpy as np\n",
    "import os\n",
    "from tqdm import tqdm"
   ]
  },
  {
   "cell_type": "code",
   "execution_count": null,
   "id": "4ab1fd81-3558-4be3-8572-5ca3f218de37",
   "metadata": {},
   "outputs": [],
   "source": [
    "tf.debugging.set_log_device_placement(False)\n",
    "physical_devices = tf.config.list_physical_devices('GPU')\n",
    "tf.config.experimental.set_memory_growth(physical_devices[0], True)"
   ]
  },
  {
   "cell_type": "code",
   "execution_count": null,
   "id": "eea5c3f3-7470-4f80-8e98-252920b3cfab",
   "metadata": {},
   "outputs": [],
   "source": [
    "def get_dcm_array(file_path, expected_size=(512,512), normalize=False):\n",
    "    ds = dcm.dcmread(file_path)\n",
    "    try:\n",
    "        ds = ds.pixel_array.astype(np.float32) \n",
    "    except:\n",
    "        return np.zeros((512,512))\n",
    "    if normalize:\n",
    "        ds /= np.max(np.abs(ds.pixel_array))\n",
    "    return ds"
   ]
  },
  {
   "cell_type": "code",
   "execution_count": null,
   "id": "c1ae6101-906e-4602-b2b2-353525d9ebe3",
   "metadata": {},
   "outputs": [],
   "source": [
    "img_path = '/home/jupyter/rsna-intracranial-hemorrhage-detection/stage_2_train/'\n",
    "def save_imgs_arrays():\n",
    "    for fname in tqdm(os.listdir(img_path)):\n",
    "        img = get_dcm_array(img_path+fname)\n",
    "        new_name = fname.split('.')[0] + '.npy'\n",
    "        np.save(img_path+new_name, img)\n",
    "    "
   ]
  },
  {
   "cell_type": "code",
   "execution_count": null,
   "id": "8b5e0119-2346-498e-a8af-bb5051495871",
   "metadata": {},
   "outputs": [],
   "source": [
    "a = tf.constant([[1.0, 2.0, 3.0], [4.0, 5.0, 6.0]])\n",
    "b = tf.constant([[1.0, 2.0], [3.0, 4.0], [5.0, 6.0]])\n",
    "c = tf.add(a, a)"
   ]
  },
  {
   "cell_type": "code",
   "execution_count": null,
   "id": "066ba609-d797-4d10-9ceb-70206ac0e164",
   "metadata": {},
   "outputs": [],
   "source": [
    "save_imgs_arrays()"
   ]
  },
  {
   "cell_type": "code",
   "execution_count": null,
   "id": "2e4bfaf4-5aed-4a98-88f0-90da8321ecda",
   "metadata": {},
   "outputs": [],
   "source": []
  }
 ],
 "metadata": {
  "environment": {
   "kernel": "python3",
   "name": "tf2-gpu.2-7.m86",
   "type": "gcloud",
   "uri": "gcr.io/deeplearning-platform-release/tf2-gpu.2-7:m86"
  },
  "kernelspec": {
   "display_name": "Python 3",
   "language": "python",
   "name": "python3"
  },
  "language_info": {
   "codemirror_mode": {
    "name": "ipython",
    "version": 3
   },
   "file_extension": ".py",
   "mimetype": "text/x-python",
   "name": "python",
   "nbconvert_exporter": "python",
   "pygments_lexer": "ipython3",
   "version": "3.7.12"
  }
 },
 "nbformat": 4,
 "nbformat_minor": 5
}
