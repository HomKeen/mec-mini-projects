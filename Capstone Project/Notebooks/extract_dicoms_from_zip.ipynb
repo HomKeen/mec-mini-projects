{
 "cells": [
  {
   "cell_type": "markdown",
   "id": "a749db05",
   "metadata": {},
   "source": [
    "This notebook will extract the DICOM metadata (i.e. the x,y,z coordinates of each slice, create lists of DICOM images that are from the same scan, and create feature vectors stored in NPY files using the weights of the base CNN model."
   ]
  },
  {
   "cell_type": "code",
   "execution_count": null,
   "id": "8eaca85a",
   "metadata": {},
   "outputs": [],
   "source": []
  }
 ],
 "metadata": {
  "kernelspec": {
   "display_name": "Python 3 (ipykernel)",
   "language": "python",
   "name": "python3"
  },
  "language_info": {
   "codemirror_mode": {
    "name": "ipython",
    "version": 3
   },
   "file_extension": ".py",
   "mimetype": "text/x-python",
   "name": "python",
   "nbconvert_exporter": "python",
   "pygments_lexer": "ipython3",
   "version": "3.9.7"
  }
 },
 "nbformat": 4,
 "nbformat_minor": 5
}
