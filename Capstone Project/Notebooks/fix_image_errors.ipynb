{
 "cells": [
  {
   "cell_type": "code",
   "execution_count": 1,
   "id": "6af6d08f-b4c4-4f39-86e0-5db877efc429",
   "metadata": {},
   "outputs": [],
   "source": [
    "import pandas as pd\n",
    "import os\n",
    "from tqdm import tqdm\n",
    "import pydicom as dcm\n",
    "from PIL import Image\n",
    "import numpy as np\n",
    "import csv\n",
    "import tensorflow as tf\n",
    "from matplotlib import pyplot as plt\n",
    "import time\n",
    "from joblib import Parallel, delayed\n",
    "import sys"
   ]
  },
  {
   "cell_type": "code",
   "execution_count": 2,
   "id": "a86c45e6-b078-452f-9fd2-948680203f66",
   "metadata": {},
   "outputs": [],
   "source": [
    "orig_train_img_dir = '/home/kwhom/rsna-intracranial-hemorrhage-detection/stage_2_train/'\n",
    "train_img_dir = '/home/jupyter/rsna-intracranial-hemorrhage-detection/stage_2_train_imgs/'"
   ]
  },
  {
   "cell_type": "code",
   "execution_count": 3,
   "id": "7a22b32b-a0f0-4d10-9440-c9f1d42da5a3",
   "metadata": {},
   "outputs": [],
   "source": [
    "def get_center_and_width(dicom):\n",
    "    return tuple([int(x[0]) if type(x) == dcm.multival.MultiValue else int(x) for x in [dicom.WindowCenter, dicom.WindowWidth]])\n",
    "def normalize_minmax(img):\n",
    "    mi, ma = img.min(), img.max()\n",
    "    if mi == ma:\n",
    "        return img-mi\n",
    "    return (img - mi) / (ma - mi)\n",
    "\n",
    "def window_filter(img, center, width, slope, intercept):\n",
    "    out = np.copy(img)\n",
    "    out = out*slope + intercept\n",
    "    lowest_visible = center - width//2\n",
    "    highest_visible = center + width//2\n",
    "    \n",
    "    out[out < lowest_visible] = lowest_visible\n",
    "    out[out > highest_visible] = highest_visible\n",
    "    return normalize_minmax(out) * 255\n",
    "\n",
    "def get_img_tensor(img_path):\n",
    "    dicom = dcm.dcmread(img_path, force=True)\n",
    "    \n",
    "    img = dicom.pixel_array\n",
    "    center, width = get_center_and_width(dicom)\n",
    "    slope, intercept = dicom.RescaleSlope, dicom.RescaleIntercept\n",
    "    brain = window_filter(img, 40, 80, slope, intercept)\n",
    "    subdural = window_filter(img, 80, 200, slope, intercept)\n",
    "    tissue = window_filter(img, 40, 380, slope, intercept)\n",
    "    \n",
    "    return np.stack([brain, subdural, tissue], axis=2).astype(np.int8)\n",
    "\n",
    "def write_to_png(img_name, png_dir):\n",
    "    img_id = img_name.split('.')[0]\n",
    "    \n",
    "    try:\n",
    "        img_array = get_img_tensor(orig_train_img_dir+img_name)\n",
    "        if img_array.shape == (512,512,3):\n",
    "            img = Image.fromarray(img_array, 'RGB')\n",
    "            img.save(png_dir+img_id+'.png')\n",
    "    except:\n",
    "        pass\n",
    "    \n",
    "    # os.remove(img_dir+img_name)\n",
    "f = 0\n",
    "i = 0\n",
    "present = set(os.listdir(train_img_dir))\n",
    "def write_if_not_present(img_name):\n",
    "    global f, i\n",
    "    if (img_name.split('.')[0] + '.png') not in present:\n",
    "        write_to_png(img_name, train_img_dir)\n",
    "        f += 1\n",
    "    i += 1\n",
    "    # sys.stdout.write(f'\\r{i}, {f}')\n",
    "    # sys.stdout.flush()"
   ]
  },
  {
   "cell_type": "code",
   "execution_count": 4,
   "id": "760e5e9c-2c17-4266-a2e2-2a3b9ac53f4c",
   "metadata": {},
   "outputs": [],
   "source": [
    "# Parallel(n_jobs=10)(delayed(write_if_not_present)(img_name) for img_name in tqdm(os.listdir(orig_train_img_dir)))\n",
    "# list(present)[:20]\n",
    "# for img_name in tqdm(os.listdir(orig_train_img_dir)):\n",
    "    # write_if_not_present(img_name)"
   ]
  },
  {
   "cell_type": "code",
   "execution_count": 5,
   "id": "2856d63d-bac0-4b82-8532-c35b05d8313b",
   "metadata": {},
   "outputs": [
    {
     "name": "stderr",
     "output_type": "stream",
     "text": [
      "100%|██████████| 752526/752526 [21:38<00:00, 579.52it/s]  \n"
     ]
    },
    {
     "name": "stdout",
     "output_type": "stream",
     "text": [
      "removed 28\n"
     ]
    }
   ],
   "source": [
    "j = 0\n",
    "\n",
    "def remove_if_error(img_name):\n",
    "    try:\n",
    "        Image.open(train_img_dir+img_name)\n",
    "    except:\n",
    "        global j\n",
    "        os.remove(train_img_dir+img_name)\n",
    "        j += 1\n",
    "    \n",
    "Parallel(n_jobs=10, backend='threading', batch_size=10)(delayed(remove_if_error)(img_name) for img_name in tqdm(os.listdir(train_img_dir)))\n",
    "print(f'removed {j}')"
   ]
  },
  {
   "cell_type": "code",
   "execution_count": null,
   "id": "e14de63b-3062-41a2-8546-774429b86e65",
   "metadata": {},
   "outputs": [],
   "source": []
  }
 ],
 "metadata": {
  "environment": {
   "kernel": "python3",
   "name": "tf2-gpu.2-7.m86",
   "type": "gcloud",
   "uri": "gcr.io/deeplearning-platform-release/tf2-gpu.2-7:m86"
  },
  "kernelspec": {
   "display_name": "Python 3",
   "language": "python",
   "name": "python3"
  },
  "language_info": {
   "codemirror_mode": {
    "name": "ipython",
    "version": 3
   },
   "file_extension": ".py",
   "mimetype": "text/x-python",
   "name": "python",
   "nbconvert_exporter": "python",
   "pygments_lexer": "ipython3",
   "version": "3.7.12"
  }
 },
 "nbformat": 4,
 "nbformat_minor": 5
}
