{
 "cells": [
  {
   "cell_type": "code",
   "execution_count": null,
   "id": "700ca0a5-e431-4b37-af53-35089c301bb7",
   "metadata": {},
   "outputs": [],
   "source": [
    "from sklearn.cluster import MiniBatchKMeans\n",
    "import numpy as np\n",
    "import os\n",
    "import sys\n",
    "import pydicom as dcm\n",
    "import time\n",
    "from joblib import dump, load, parallel_backend"
   ]
  },
  {
   "cell_type": "code",
   "execution_count": null,
   "id": "381e680b-c5ff-48cf-9039-c4f1bfb12d85",
   "metadata": {},
   "outputs": [],
   "source": [
    "def preprocess_dcm(file_path):\n",
    "    ds = dcm.dcmread(file_path)\n",
    "    ds = ds.pixel_array.astype(np.float32) / np.max(np.abs(ds.pixel_array))\n",
    "    return ds\n",
    "\n",
    "def input_fn()"
   ]
  },
  {
   "cell_type": "code",
   "execution_count": null,
   "id": "4de6f1a2-9b39-4ad5-979b-ca37ffc621b2",
   "metadata": {},
   "outputs": [],
   "source": [
    "\n",
    "with parallel_backend('threading', n_jobs=14):\n",
    "    path = '/home/kwhom/rsna-intracranial-hemorrhage-detection/stage_2_test/'\n",
    "    i = 0\n",
    "    batch_size = 100\n",
    "    batch = []\n",
    "    model = MiniBatchKMeans(n_clusters=6, batch_size=batch_size, compute_labels=True)\n",
    "    start = time.time()\n",
    "    for fname in os.listdir(path):\n",
    "        batch.append(preprocess_dcm(path+fname).flatten())\n",
    "        if len(batch) == batch_size:\n",
    "            batch = np.array(batch)\n",
    "            model = model.partial_fit(batch)\n",
    "            batch = []\n",
    "            i += 1\n",
    "            sys.stdout.write(f'\\rCompleted {i} batches: took {time.time()-start}s')\n",
    "            sys.stdout.flush()\n",
    "            dump(model, '/home/kwhom/k_means_eda.joblib')\n",
    "            start = time.time()"
   ]
  },
  {
   "cell_type": "code",
   "execution_count": null,
   "id": "d79efa6e-bb18-4b13-bf1a-a08047987100",
   "metadata": {},
   "outputs": [],
   "source": []
  },
  {
   "cell_type": "code",
   "execution_count": null,
   "id": "9b8d32a7-50db-408d-8111-eca1bcae09bb",
   "metadata": {},
   "outputs": [],
   "source": []
  }
 ],
 "metadata": {
  "environment": {
   "kernel": "python3",
   "name": "tf2-gpu.2-7.m86",
   "type": "gcloud",
   "uri": "gcr.io/deeplearning-platform-release/tf2-gpu.2-7:m86"
  },
  "kernelspec": {
   "display_name": "Python 3",
   "language": "python",
   "name": "python3"
  },
  "language_info": {
   "codemirror_mode": {
    "name": "ipython",
    "version": 3
   },
   "file_extension": ".py",
   "mimetype": "text/x-python",
   "name": "python",
   "nbconvert_exporter": "python",
   "pygments_lexer": "ipython3",
   "version": "3.7.12"
  }
 },
 "nbformat": 4,
 "nbformat_minor": 5
}
