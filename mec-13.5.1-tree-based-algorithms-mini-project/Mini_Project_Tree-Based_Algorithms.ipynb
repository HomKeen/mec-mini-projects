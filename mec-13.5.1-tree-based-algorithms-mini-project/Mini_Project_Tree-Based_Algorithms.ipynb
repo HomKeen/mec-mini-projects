{
 "cells": [
  {
   "cell_type": "markdown",
   "metadata": {},
   "source": [
    "# Mini Project: Tree-Based Algorithms"
   ]
  },
  {
   "cell_type": "markdown",
   "metadata": {},
   "source": [
    "## The \"German Credit\" Dataset"
   ]
  },
  {
   "cell_type": "markdown",
   "metadata": {},
   "source": [
    "### Dataset Details"
   ]
  },
  {
   "cell_type": "markdown",
   "metadata": {},
   "source": [
    "This dataset has two classes (these would be considered labels in Machine Learning terms) to describe the worthiness of a personal loan: \"Good\" or \"Bad\". There are predictors related to attributes, such as: checking account status, duration, credit history, purpose of the loan, amount of the loan, savings accounts or bonds, employment duration, installment rate in percentage of disposable income, personal information, other debtors/guarantors, residence duration, property, age, other installment plans, housing, number of existing credits, job information, number of people being liable to provide maintenance for, telephone, and foreign worker status.\n",
    "\n",
    "Many of these predictors are discrete and have been expanded into several 0/1 indicator variables (a.k.a. they have been one-hot-encoded).\n",
    "\n",
    "This dataset has been kindly provided by Professor Dr. Hans Hofmann of the University of Hamburg, and can also be found on the UCI Machine Learning Repository."
   ]
  },
  {
   "cell_type": "markdown",
   "metadata": {},
   "source": [
    "\n",
    "\n",
    "\n"
   ]
  },
  {
   "cell_type": "markdown",
   "metadata": {},
   "source": [
    "## Decision Trees"
   ]
  },
  {
   "cell_type": "markdown",
   "metadata": {},
   "source": [
    " As we have learned in the previous lectures, Decision Trees as a family of algorithms (irrespective to the particular implementation) are powerful algorithms that can produce models with a predictive accuracy higher than that produced by linear models, such as Linear or Logistic Regression. Primarily, this is due to the fact the DT's can model nonlinear relationships, and also have a number of tuning paramters, that allow for the practicioner to achieve the best possible model. An added bonus is the ability to visualize the trained Decision Tree model, which allows for some insight into how the model has produced the predictions that it has. One caveat here, to keep in mind, is that sometimes, due to the size of the dataset (both in the sense of the number of records, as well as the number of features), the visualization might prove to be very large and complex, increasing the difficulty of interpretation."
   ]
  },
  {
   "cell_type": "markdown",
   "metadata": {},
   "source": [
    "To give you a very good example of how Decision Trees can be visualized and interpreted, we would strongly recommend that, before continuing on with solving the problems in this Mini Project, you take the time to read this fanstastic, detailed and informative blog post: http://explained.ai/decision-tree-viz/index.html"
   ]
  },
  {
   "cell_type": "markdown",
   "metadata": {},
   "source": [
    "## Building Your First Decision Tree Model"
   ]
  },
  {
   "cell_type": "markdown",
   "metadata": {},
   "source": [
    "So, now it's time to jump straight into the heart of the matter. Your first task, is to build a Decision Tree model, using the aforementioned \"German Credit\" dataset, which contains 1,000 records, and 62 columns (one of them presents the labels, and the other 61 present the potential features for the model.)"
   ]
  },
  {
   "cell_type": "markdown",
   "metadata": {},
   "source": [
    "For this task, you will be using the scikit-learn library, which comes already pre-installed with the Anaconda Python distribution. In case you're not using that, you can easily install it using pip."
   ]
  },
  {
   "cell_type": "markdown",
   "metadata": {},
   "source": [
    "Before embarking on creating your first model, we would strongly encourage you to read the short tutorial for Decision Trees in scikit-learn (http://scikit-learn.org/stable/modules/tree.html), and then dive a bit deeper into the documentation of the algorithm itself (http://scikit-learn.org/stable/modules/generated/sklearn.tree.DecisionTreeClassifier.html). "
   ]
  },
  {
   "cell_type": "markdown",
   "metadata": {},
   "source": [
    "Also, since you want to be able to present the results of your model, we suggest you take a look at the tutorial for accuracy metrics for classification models (http://scikit-learn.org/stable/modules/model_evaluation.html#classification-report) as well as the more detailed documentation (http://scikit-learn.org/stable/modules/generated/sklearn.metrics.classification_report.html).\n",
    "\n",
    "Finally, an *amazing* resource that explains the various classification model accuracy metrics, as well as the relationships between them, can be found on Wikipedia: https://en.wikipedia.org/wiki/Confusion_matrix"
   ]
  },
  {
   "cell_type": "markdown",
   "metadata": {},
   "source": [
    "(Note: as you've already learned in the Logistic Regression mini project, a standard practice in Machine Learning for achieving the best possible result when training a model is to use hyperparameter tuning, through Grid Search and k-fold Cross Validation. We strongly encourage you to use it here as well, not just because it's standard practice, but also becuase it's not going to be computationally to intensive, due to the size of the dataset that you're working with. Our suggestion here is that you split the data into 70% training, and 30% testing. Then, do the hyperparameter tuning and Cross Validation on the training set, and afterwards to a final test on the testing set.)"
   ]
  },
  {
   "cell_type": "markdown",
   "metadata": {},
   "source": [
    "### Now we pass the torch onto you! You can start building your first Decision Tree model! :)"
   ]
  },
  {
   "cell_type": "code",
   "execution_count": 1,
   "metadata": {},
   "outputs": [],
   "source": [
    "import pandas as pd\n",
    "from sklearn.tree import DecisionTreeClassifier\n",
    "from sklearn.metrics import classification_report\n",
    "from sklearn.model_selection import train_test_split\n",
    "from sklearn.model_selection import GridSearchCV\n",
    "from sklearn import preprocessing"
   ]
  },
  {
   "cell_type": "code",
   "execution_count": 2,
   "metadata": {},
   "outputs": [],
   "source": [
    "# Your code here! :)\n",
    "data = pd.read_csv('GermanCredit.csv.zip')\n",
    "labels = data['Class']\n",
    "data = data.drop(columns=['Class'])\n",
    "\n",
    "x_train, x_test, y_train, y_test = train_test_split(data, labels, train_size=0.7)\n",
    "\n",
    "label_encoder = preprocessing.LabelEncoder()\n",
    "label_encoder.fit(y_train)\n",
    "y_train_encoded = label_encoder.transform(y_train)\n",
    "\n",
    "label_encoder = preprocessing.LabelEncoder()\n",
    "label_encoder.fit(y_test)\n",
    "y_test_encoded = label_encoder.transform(y_test)\n",
    "\n",
    "max_depth = [3,6,9,12,15,18,21]\n",
    "min_samples_split = [2,3,4,5]\n",
    "min_samples_leaf = [1,2,3]\n",
    "params = {'max_depth': max_depth, 'min_samples_split': min_samples_split, \n",
    "          'min_samples_leaf': min_samples_leaf}\n",
    "\n",
    "clf = GridSearchCV(DecisionTreeClassifier(), params, refit=True)\n",
    "clf.fit(x_train, y_train_encoded)\n",
    "clf = clf.best_estimator_"
   ]
  },
  {
   "cell_type": "code",
   "execution_count": 3,
   "metadata": {},
   "outputs": [
    {
     "name": "stdout",
     "output_type": "stream",
     "text": [
      "              precision    recall  f1-score   support\n",
      "\n",
      "           0       0.77      0.50      0.60       209\n",
      "           1       0.81      0.94      0.87       491\n",
      "\n",
      "    accuracy                           0.81       700\n",
      "   macro avg       0.79      0.72      0.74       700\n",
      "weighted avg       0.80      0.81      0.79       700\n",
      "\n"
     ]
    }
   ],
   "source": [
    "print(classification_report(y_train_encoded, clf.predict(x_train)))"
   ]
  },
  {
   "cell_type": "code",
   "execution_count": 4,
   "metadata": {},
   "outputs": [
    {
     "name": "stdout",
     "output_type": "stream",
     "text": [
      "              precision    recall  f1-score   support\n",
      "\n",
      "           0       0.58      0.33      0.42        91\n",
      "           1       0.75      0.89      0.82       209\n",
      "\n",
      "    accuracy                           0.72       300\n",
      "   macro avg       0.67      0.61      0.62       300\n",
      "weighted avg       0.70      0.72      0.70       300\n",
      "\n"
     ]
    }
   ],
   "source": [
    "print(classification_report(y_test_encoded, clf.predict(x_test)))"
   ]
  },
  {
   "cell_type": "markdown",
   "metadata": {},
   "source": [
    "### After you've built the best model you can, now it's time to visualize it!"
   ]
  },
  {
   "cell_type": "markdown",
   "metadata": {},
   "source": [
    "Remember that amazing blog post from a few paragraphs ago, that demonstrated how to visualize and interpret the results of your Decision Tree model. We've seen that this can perform very well, but let's see how it does on the \"German Credit\" dataset that we're working on, due to it being a bit larger than the one used by the blog authors."
   ]
  },
  {
   "cell_type": "markdown",
   "metadata": {},
   "source": [
    "First, we're going to need to install their package. If you're using Anaconda, this can be done easily by running:"
   ]
  },
  {
   "cell_type": "code",
   "execution_count": 5,
   "metadata": {},
   "outputs": [],
   "source": [
    "# ! pip install dtreeviz"
   ]
  },
  {
   "cell_type": "markdown",
   "metadata": {},
   "source": [
    "If for any reason this way of installing doesn't work for you straight out of the box, please refer to the more detailed documentation here: https://github.com/parrt/dtreeviz"
   ]
  },
  {
   "cell_type": "markdown",
   "metadata": {},
   "source": [
    "Now you're ready to visualize your Decision Tree model! Please feel free to use the blog post for guidance and inspiration!"
   ]
  },
  {
   "cell_type": "code",
   "execution_count": 6,
   "metadata": {},
   "outputs": [],
   "source": [
    "# Your code here! :)\n",
    "from dtreeviz.trees import *"
   ]
  },
  {
   "cell_type": "code",
   "execution_count": 7,
   "metadata": {},
   "outputs": [],
   "source": [
    "viz = dtreeviz(clf, x_train, y_train_encoded, target_name='Class', feature_names=x_train.columns)"
   ]
  },
  {
   "cell_type": "code",
   "execution_count": 10,
   "metadata": {},
   "outputs": [],
   "source": [
    "# viz.view()"
   ]
  },
  {
   "cell_type": "markdown",
   "metadata": {},
   "source": [
    "## Random Forests"
   ]
  },
  {
   "cell_type": "markdown",
   "metadata": {},
   "source": [
    "As discussed in the lecture videos, Decision Tree algorithms also have certain undesireable properties. Mainly the have low bias, which is good, but tend to have high variance - which is *not* so good (more about this problem here: https://en.wikipedia.org/wiki/Bias%E2%80%93variance_tradeoff)."
   ]
  },
  {
   "cell_type": "markdown",
   "metadata": {},
   "source": [
    "Noticing these problems, the late Professor Leo Breiman, in 2001, developed the Random Forests algorithm, which mitigates these problems, while at the same time providing even higher predictive accuracy than the majority of Decision Tree algorithm implementations. While the curriculum contains two excellent lectures on Random Forests, if you're interested, you can dive into the original paper here: https://link.springer.com/content/pdf/10.1023%2FA%3A1010933404324.pdf."
   ]
  },
  {
   "cell_type": "markdown",
   "metadata": {},
   "source": [
    "In the next part of this assignment, your are going to use the same \"German Credit\" dataset to train, tune, and measure the performance of a Random Forests model. You will also see certain functionalities that this model, even though it's a bit of a \"black box\", provides for some degree of interpretability."
   ]
  },
  {
   "cell_type": "markdown",
   "metadata": {},
   "source": [
    "First, let's build a Random Forests model, using the same best practices that you've used for your Decision Trees model. You can reuse the things you've already imported there, so no need to do any re-imports, new train/test splits, or loading up the data again."
   ]
  },
  {
   "cell_type": "code",
   "execution_count": 11,
   "metadata": {},
   "outputs": [],
   "source": [
    "from sklearn.ensemble import RandomForestClassifier"
   ]
  },
  {
   "cell_type": "code",
   "execution_count": 13,
   "metadata": {},
   "outputs": [
    {
     "name": "stdout",
     "output_type": "stream",
     "text": [
      "              precision    recall  f1-score   support\n",
      "\n",
      "           0       1.00      1.00      1.00       209\n",
      "           1       1.00      1.00      1.00       491\n",
      "\n",
      "    accuracy                           1.00       700\n",
      "   macro avg       1.00      1.00      1.00       700\n",
      "weighted avg       1.00      1.00      1.00       700\n",
      "\n",
      "              precision    recall  f1-score   support\n",
      "\n",
      "           0       0.72      0.37      0.49        91\n",
      "           1       0.77      0.94      0.85       209\n",
      "\n",
      "    accuracy                           0.77       300\n",
      "   macro avg       0.75      0.66      0.67       300\n",
      "weighted avg       0.76      0.77      0.74       300\n",
      "\n"
     ]
    }
   ],
   "source": [
    "# Your code here! :)\n",
    "rf = RandomForestClassifier()\n",
    "rf.fit(x_train, y_train_encoded)\n",
    "print(classification_report(y_train_encoded, rf.predict(x_train)))\n",
    "print(classification_report(y_test_encoded, rf.predict(x_test)))"
   ]
  },
  {
   "cell_type": "markdown",
   "metadata": {},
   "source": [
    "As mentioned, there are certain ways to \"peek\" into a model created by the Random Forests algorithm. The first, and most popular one, is the Feature Importance calculation functionality. This allows the ML practitioner to see an ordering of the importance of the features that have contributed the most to the predictive accuracy of the model. \n",
    "\n",
    "You can see how to use this in the scikit-learn documentation (http://scikit-learn.org/stable/modules/generated/sklearn.ensemble.RandomForestClassifier.html#sklearn.ensemble.RandomForestClassifier.feature_importances_). Now, if you tried this, you would just get an ordered table of not directly interpretable numeric values. Thus, it's much more useful to show the feature importance in a visual way. You can see an example of how that's done here: http://scikit-learn.org/stable/auto_examples/ensemble/plot_forest_importances.html#sphx-glr-auto-examples-ensemble-plot-forest-importances-py\n",
    "\n",
    "Now you try! Let's visualize the importance of features from your Random Forests model!"
   ]
  },
  {
   "cell_type": "code",
   "execution_count": 23,
   "metadata": {},
   "outputs": [
    {
     "data": {
      "text/plain": [
       "([0,\n",
       "  1,\n",
       "  2,\n",
       "  3,\n",
       "  4,\n",
       "  5,\n",
       "  6,\n",
       "  7,\n",
       "  8,\n",
       "  9,\n",
       "  10,\n",
       "  11,\n",
       "  12,\n",
       "  13,\n",
       "  14,\n",
       "  15,\n",
       "  16,\n",
       "  17,\n",
       "  18,\n",
       "  19,\n",
       "  20,\n",
       "  21,\n",
       "  22,\n",
       "  23,\n",
       "  24,\n",
       "  25,\n",
       "  26,\n",
       "  27,\n",
       "  28,\n",
       "  29,\n",
       "  30,\n",
       "  31,\n",
       "  32,\n",
       "  33,\n",
       "  34,\n",
       "  35,\n",
       "  36,\n",
       "  37,\n",
       "  38,\n",
       "  39,\n",
       "  40,\n",
       "  41,\n",
       "  42,\n",
       "  43,\n",
       "  44,\n",
       "  45,\n",
       "  46,\n",
       "  47,\n",
       "  48,\n",
       "  49,\n",
       "  50,\n",
       "  51,\n",
       "  52,\n",
       "  53,\n",
       "  54,\n",
       "  55,\n",
       "  56,\n",
       "  57,\n",
       "  58,\n",
       "  59,\n",
       "  60],\n",
       " [Text(0, 0, ''),\n",
       "  Text(0, 0, ''),\n",
       "  Text(0, 0, ''),\n",
       "  Text(0, 0, ''),\n",
       "  Text(0, 0, ''),\n",
       "  Text(0, 0, ''),\n",
       "  Text(0, 0, ''),\n",
       "  Text(0, 0, ''),\n",
       "  Text(0, 0, ''),\n",
       "  Text(0, 0, ''),\n",
       "  Text(0, 0, ''),\n",
       "  Text(0, 0, ''),\n",
       "  Text(0, 0, ''),\n",
       "  Text(0, 0, ''),\n",
       "  Text(0, 0, ''),\n",
       "  Text(0, 0, ''),\n",
       "  Text(0, 0, ''),\n",
       "  Text(0, 0, ''),\n",
       "  Text(0, 0, ''),\n",
       "  Text(0, 0, ''),\n",
       "  Text(0, 0, ''),\n",
       "  Text(0, 0, ''),\n",
       "  Text(0, 0, ''),\n",
       "  Text(0, 0, ''),\n",
       "  Text(0, 0, ''),\n",
       "  Text(0, 0, ''),\n",
       "  Text(0, 0, ''),\n",
       "  Text(0, 0, ''),\n",
       "  Text(0, 0, ''),\n",
       "  Text(0, 0, ''),\n",
       "  Text(0, 0, ''),\n",
       "  Text(0, 0, ''),\n",
       "  Text(0, 0, ''),\n",
       "  Text(0, 0, ''),\n",
       "  Text(0, 0, ''),\n",
       "  Text(0, 0, ''),\n",
       "  Text(0, 0, ''),\n",
       "  Text(0, 0, ''),\n",
       "  Text(0, 0, ''),\n",
       "  Text(0, 0, ''),\n",
       "  Text(0, 0, ''),\n",
       "  Text(0, 0, ''),\n",
       "  Text(0, 0, ''),\n",
       "  Text(0, 0, ''),\n",
       "  Text(0, 0, ''),\n",
       "  Text(0, 0, ''),\n",
       "  Text(0, 0, ''),\n",
       "  Text(0, 0, ''),\n",
       "  Text(0, 0, ''),\n",
       "  Text(0, 0, ''),\n",
       "  Text(0, 0, ''),\n",
       "  Text(0, 0, ''),\n",
       "  Text(0, 0, ''),\n",
       "  Text(0, 0, ''),\n",
       "  Text(0, 0, ''),\n",
       "  Text(0, 0, ''),\n",
       "  Text(0, 0, ''),\n",
       "  Text(0, 0, ''),\n",
       "  Text(0, 0, ''),\n",
       "  Text(0, 0, ''),\n",
       "  Text(0, 0, '')])"
      ]
     },
     "execution_count": 23,
     "metadata": {},
     "output_type": "execute_result"
    },
    {
     "data": {
      "image/png": "[encoded data removed]",
      "text/plain": [
       "<Figure size 1080x360 with 1 Axes>"
      ]
     },
     "metadata": {
      "needs_background": "light"
     },
     "output_type": "display_data"
    }
   ],
   "source": [
    "# Your code here\n",
    "import matplotlib\n",
    "matplotlib.rcParams['figure.figsize'] = [15,5]\n",
    "features = x_train.columns\n",
    "plt.bar(features, rf.feature_importances_)\n",
    "plt.xticks(rotation=90)"
   ]
  },
  {
   "cell_type": "markdown",
   "metadata": {},
   "source": [
    "A final method for gaining some insight into the inner working of your Random Forests models is a so-called Partial Dependence Plot. The Partial Dependence Plot (PDP or PD plot) shows the marginal effect of a feature on the predicted outcome of a previously fit model. The prediction function is fixed at a few values of the chosen features and averaged over the other features. A partial dependence plot can show if the relationship between the target and a feature is linear, monotonic or more complex. \n",
    "\n",
    "In scikit-learn, PDPs are implemented and available for certain algorithms, but at this point (version 0.20.0) they are not yet implemented for Random Forests. Thankfully, there is an add-on package called **PDPbox** (https://pdpbox.readthedocs.io/en/latest/) which adds this functionality to Random Forests. The package is easy to install through pip."
   ]
  },
  {
   "cell_type": "code",
   "execution_count": 24,
   "metadata": {},
   "outputs": [
    {
     "name": "stdout",
     "output_type": "stream",
     "text": [
      "Collecting pdpbox\n",
      "  Downloading PDPbox-0.2.1.tar.gz (34.0 MB)\n",
      "  Preparing metadata (setup.py): started\n",
      "  Preparing metadata (setup.py): finished with status 'done'\n",
      "Requirement already satisfied: pandas in c:\\users\\keena\\anaconda3\\lib\\site-packages (from pdpbox) (1.3.4)\n",
      "Requirement already satisfied: numpy in c:\\users\\keena\\anaconda3\\lib\\site-packages (from pdpbox) (1.19.2)\n",
      "Requirement already satisfied: scipy in c:\\users\\keena\\anaconda3\\lib\\site-packages (from pdpbox) (1.5.0)\n",
      "Requirement already satisfied: joblib in c:\\users\\keena\\anaconda3\\lib\\site-packages (from pdpbox) (0.17.0)\n",
      "Requirement already satisfied: psutil in c:\\users\\keena\\anaconda3\\lib\\site-packages (from pdpbox) (5.7.2)\n",
      "Collecting matplotlib==3.1.1\n",
      "  Downloading matplotlib-3.1.1.tar.gz (37.8 MB)\n",
      "  Preparing metadata (setup.py): started\n",
      "  Preparing metadata (setup.py): finished with status 'done'\n",
      "Requirement already satisfied: sklearn in c:\\users\\keena\\anaconda3\\lib\\site-packages (from pdpbox) (0.0)\n",
      "Requirement already satisfied: cycler>=0.10 in c:\\users\\keena\\anaconda3\\lib\\site-packages (from matplotlib==3.1.1->pdpbox) (0.10.0)\n",
      "Requirement already satisfied: kiwisolver>=1.0.1 in c:\\users\\keena\\anaconda3\\lib\\site-packages (from matplotlib==3.1.1->pdpbox) (1.2.0)\n",
      "Requirement already satisfied: pyparsing!=2.0.4,!=2.1.2,!=2.1.6,>=2.0.1 in c:\\users\\keena\\anaconda3\\lib\\site-packages (from matplotlib==3.1.1->pdpbox) (2.4.7)\n",
      "Requirement already satisfied: python-dateutil>=2.1 in c:\\users\\keena\\anaconda3\\lib\\site-packages (from matplotlib==3.1.1->pdpbox) (2.8.1)\n",
      "Requirement already satisfied: pytz>=2017.3 in c:\\users\\keena\\anaconda3\\lib\\site-packages (from pandas->pdpbox) (2020.1)\n",
      "Requirement already satisfied: scikit-learn in c:\\users\\keena\\anaconda3\\lib\\site-packages (from sklearn->pdpbox) (0.23.2)\n",
      "Requirement already satisfied: six in c:\\users\\keena\\anaconda3\\lib\\site-packages (from cycler>=0.10->matplotlib==3.1.1->pdpbox) (1.15.0)\n",
      "Requirement already satisfied: threadpoolctl>=2.0.0 in c:\\users\\keena\\anaconda3\\lib\\site-packages (from scikit-learn->sklearn->pdpbox) (2.1.0)\n",
      "Building wheels for collected packages: pdpbox, matplotlib\n",
      "  Building wheel for pdpbox (setup.py): started\n",
      "  Building wheel for pdpbox (setup.py): finished with status 'done'\n",
      "  Created wheel for pdpbox: filename=PDPbox-0.2.1-py3-none-any.whl size=35758244 sha256=1ebc98d60d8a46753c41b1bc356e68045bb56ee781d64591e25d9cc5b828dd99\n",
      "  Stored in directory: c:\\users\\keena\\appdata\\local\\pip\\cache\\wheels\\35\\fb\\ef\\a08dd2a1611435285fa3f9d9104bf554f10c2eb7293b526ccb\n",
      "  Building wheel for matplotlib (setup.py): started\n",
      "  Building wheel for matplotlib (setup.py): finished with status 'error'\n",
      "  Running setup.py clean for matplotlib\n",
      "Successfully built pdpbox\n",
      "Failed to build matplotlib\n",
      "Installing collected packages: matplotlib, pdpbox\n",
      "  Attempting uninstall: matplotlib\n",
      "    Found existing installation: matplotlib 3.3.2\n",
      "    Uninstalling matplotlib-3.3.2:\n"
     ]
    },
    {
     "name": "stderr",
     "output_type": "stream",
     "text": [
      "WARNING: Ignoring invalid distribution -illow (c:\\users\\keena\\anaconda3\\lib\\site-packages)\n",
      "WARNING: Ignoring invalid distribution -illow (c:\\users\\keena\\anaconda3\\lib\\site-packages)\n",
      "  ERROR: Command errored out with exit status 1:\n",
      "   command: 'c:\\users\\keena\\anaconda3\\python.exe' -u -c 'import io, os, sys, setuptools, tokenize; sys.argv[0] = '\"'\"'C:\\\\Users\\\\keena\\\\AppData\\\\Local\\\\Temp\\\\pip-install-0xaiezq6\\\\matplotlib_e81c07ed421841f7bf16a2b2c1f9cd5a\\\\setup.py'\"'\"'; __file__='\"'\"'C:\\\\Users\\\\keena\\\\AppData\\\\Local\\\\Temp\\\\pip-install-0xaiezq6\\\\matplotlib_e81c07ed421841f7bf16a2b2c1f9cd5a\\\\setup.py'\"'\"';f = getattr(tokenize, '\"'\"'open'\"'\"', open)(__file__) if os.path.exists(__file__) else io.StringIO('\"'\"'from setuptools import setup; setup()'\"'\"');code = f.read().replace('\"'\"'\\r\\n'\"'\"', '\"'\"'\\n'\"'\"');f.close();exec(compile(code, __file__, '\"'\"'exec'\"'\"'))' bdist_wheel -d 'C:\\Users\\keena\\AppData\\Local\\Temp\\pip-wheel-rxi5ixoz'\n",
      "       cwd: C:\\Users\\keena\\AppData\\Local\\Temp\\pip-install-0xaiezq6\\matplotlib_e81c07ed421841f7bf16a2b2c1f9cd5a\\\n",
      "  Complete output (505 lines):\n",
      "  ================================================================================\n",
      "  Edit setup.cfg to change the build options\n",
      "  \n",
      "  BUILDING MATPLOTLIB\n",
      "    matplotlib: yes [3.1.1]\n",
      "        python: yes [3.8.5 (default, Sep  3 2020, 21:29:08) [MSC v.1916 64 bit\n",
      "                    (AMD64)]]\n",
      "      platform: yes [win32]\n",
      "  \n",
      "  OPTIONAL SUBPACKAGES\n",
      "   sample_data: yes [installing]\n",
      "         tests: no  [skipping due to configuration]\n",
      "  \n",
      "  OPTIONAL BACKEND EXTENSIONS\n",
      "           agg: yes [installing]\n",
      "         tkagg: yes [installing; run-time loading from Python Tcl/Tk]\n",
      "        macosx: no  [Mac OS-X only]\n",
      "  \n",
      "  OPTIONAL PACKAGE DATA\n",
      "          dlls: no  [skipping due to configuration]\n",
      "  \n",
      "  running bdist_wheel\n",
      "  running build\n",
      "  running build_py\n",
      "  creating build\n",
      "  creating build\\lib.win-amd64-3.8\n",
      "  copying lib\\pylab.py -> build\\lib.win-amd64-3.8\n",
      "  creating build\\lib.win-amd64-3.8\\matplotlib\n",
      "  copying lib\\matplotlib\\afm.py -> build\\lib.win-amd64-3.8\\matplotlib\n",
      "  copying lib\\matplotlib\\animation.py -> build\\lib.win-amd64-3.8\\matplotlib\n",
      "  copying lib\\matplotlib\\artist.py -> build\\lib.win-amd64-3.8\\matplotlib\n",
      "  copying lib\\matplotlib\\axis.py -> build\\lib.win-amd64-3.8\\matplotlib\n",
      "  copying lib\\matplotlib\\backend_bases.py -> build\\lib.win-amd64-3.8\\matplotlib\n",
      "  copying lib\\matplotlib\\backend_managers.py -> build\\lib.win-amd64-3.8\\matplotlib\n",
      "  copying lib\\matplotlib\\backend_tools.py -> build\\lib.win-amd64-3.8\\matplotlib\n",
      "  copying lib\\matplotlib\\bezier.py -> build\\lib.win-amd64-3.8\\matplotlib\n",
      "  copying lib\\matplotlib\\blocking_input.py -> build\\lib.win-amd64-3.8\\matplotlib\n",
      "  copying lib\\matplotlib\\category.py -> build\\lib.win-amd64-3.8\\matplotlib\n",
      "  copying lib\\matplotlib\\cm.py -> build\\lib.win-amd64-3.8\\matplotlib\n",
      "  copying lib\\matplotlib\\collections.py -> build\\lib.win-amd64-3.8\\matplotlib\n",
      "  copying lib\\matplotlib\\colorbar.py -> build\\lib.win-amd64-3.8\\matplotlib\n",
      "  copying lib\\matplotlib\\colors.py -> build\\lib.win-amd64-3.8\\matplotlib\n",
      "  copying lib\\matplotlib\\container.py -> build\\lib.win-amd64-3.8\\matplotlib\n",
      "  copying lib\\matplotlib\\contour.py -> build\\lib.win-amd64-3.8\\matplotlib\n",
      "  copying lib\\matplotlib\\dates.py -> build\\lib.win-amd64-3.8\\matplotlib\n",
      "  copying lib\\matplotlib\\docstring.py -> build\\lib.win-amd64-3.8\\matplotlib\n",
      "  copying lib\\matplotlib\\dviread.py -> build\\lib.win-amd64-3.8\\matplotlib\n",
      "  copying lib\\matplotlib\\figure.py -> build\\lib.win-amd64-3.8\\matplotlib\n",
      "  copying lib\\matplotlib\\fontconfig_pattern.py -> build\\lib.win-amd64-3.8\\matplotlib\n",
      "  copying lib\\matplotlib\\font_manager.py -> build\\lib.win-amd64-3.8\\matplotlib\n",
      "  copying lib\\matplotlib\\gridspec.py -> build\\lib.win-amd64-3.8\\matplotlib\n",
      "  copying lib\\matplotlib\\hatch.py -> build\\lib.win-amd64-3.8\\matplotlib\n",
      "  copying lib\\matplotlib\\image.py -> build\\lib.win-amd64-3.8\\matplotlib\n",
      "  copying lib\\matplotlib\\legend.py -> build\\lib.win-amd64-3.8\\matplotlib\n",
      "  copying lib\\matplotlib\\legend_handler.py -> build\\lib.win-amd64-3.8\\matplotlib\n",
      "  copying lib\\matplotlib\\lines.py -> build\\lib.win-amd64-3.8\\matplotlib\n",
      "  copying lib\\matplotlib\\markers.py -> build\\lib.win-amd64-3.8\\matplotlib\n",
      "  copying lib\\matplotlib\\mathtext.py -> build\\lib.win-amd64-3.8\\matplotlib\n",
      "  copying lib\\matplotlib\\mlab.py -> build\\lib.win-amd64-3.8\\matplotlib\n",
      "  copying lib\\matplotlib\\offsetbox.py -> build\\lib.win-amd64-3.8\\matplotlib\n",
      "  copying lib\\matplotlib\\patches.py -> build\\lib.win-amd64-3.8\\matplotlib\n",
      "  copying lib\\matplotlib\\path.py -> build\\lib.win-amd64-3.8\\matplotlib\n",
      "  copying lib\\matplotlib\\patheffects.py -> build\\lib.win-amd64-3.8\\matplotlib\n",
      "  copying lib\\matplotlib\\pylab.py -> build\\lib.win-amd64-3.8\\matplotlib\n",
      "  copying lib\\matplotlib\\pyplot.py -> build\\lib.win-amd64-3.8\\matplotlib\n",
      "  copying lib\\matplotlib\\quiver.py -> build\\lib.win-amd64-3.8\\matplotlib\n",
      "  copying lib\\matplotlib\\rcsetup.py -> build\\lib.win-amd64-3.8\\matplotlib\n",
      "  copying lib\\matplotlib\\sankey.py -> build\\lib.win-amd64-3.8\\matplotlib\n",
      "  copying lib\\matplotlib\\scale.py -> build\\lib.win-amd64-3.8\\matplotlib\n",
      "  copying lib\\matplotlib\\spines.py -> build\\lib.win-amd64-3.8\\matplotlib\n",
      "  copying lib\\matplotlib\\stackplot.py -> build\\lib.win-amd64-3.8\\matplotlib\n",
      "  copying lib\\matplotlib\\streamplot.py -> build\\lib.win-amd64-3.8\\matplotlib\n",
      "  copying lib\\matplotlib\\table.py -> build\\lib.win-amd64-3.8\\matplotlib\n",
      "  copying lib\\matplotlib\\texmanager.py -> build\\lib.win-amd64-3.8\\matplotlib\n",
      "  copying lib\\matplotlib\\text.py -> build\\lib.win-amd64-3.8\\matplotlib\n",
      "  copying lib\\matplotlib\\textpath.py -> build\\lib.win-amd64-3.8\\matplotlib\n",
      "  copying lib\\matplotlib\\ticker.py -> build\\lib.win-amd64-3.8\\matplotlib\n",
      "  copying lib\\matplotlib\\tight_bbox.py -> build\\lib.win-amd64-3.8\\matplotlib\n",
      "  copying lib\\matplotlib\\tight_layout.py -> build\\lib.win-amd64-3.8\\matplotlib\n",
      "  copying lib\\matplotlib\\transforms.py -> build\\lib.win-amd64-3.8\\matplotlib\n",
      "  copying lib\\matplotlib\\type1font.py -> build\\lib.win-amd64-3.8\\matplotlib\n",
      "  copying lib\\matplotlib\\units.py -> build\\lib.win-amd64-3.8\\matplotlib\n",
      "  copying lib\\matplotlib\\widgets.py -> build\\lib.win-amd64-3.8\\matplotlib\n",
      "  copying lib\\matplotlib\\_animation_data.py -> build\\lib.win-amd64-3.8\\matplotlib\n",
      "  copying lib\\matplotlib\\_cm.py -> build\\lib.win-amd64-3.8\\matplotlib\n",
      "  copying lib\\matplotlib\\_cm_listed.py -> build\\lib.win-amd64-3.8\\matplotlib\n",
      "  copying lib\\matplotlib\\_color_data.py -> build\\lib.win-amd64-3.8\\matplotlib\n",
      "  copying lib\\matplotlib\\_constrained_layout.py -> build\\lib.win-amd64-3.8\\matplotlib\n",
      "  copying lib\\matplotlib\\_layoutbox.py -> build\\lib.win-amd64-3.8\\matplotlib\n",
      "  copying lib\\matplotlib\\_mathtext_data.py -> build\\lib.win-amd64-3.8\\matplotlib\n",
      "  copying lib\\matplotlib\\_pylab_helpers.py -> build\\lib.win-amd64-3.8\\matplotlib\n",
      "  copying lib\\matplotlib\\_version.py -> build\\lib.win-amd64-3.8\\matplotlib\n",
      "  copying lib\\matplotlib\\__init__.py -> build\\lib.win-amd64-3.8\\matplotlib\n",
      "  creating build\\lib.win-amd64-3.8\\mpl_toolkits\n",
      "  copying lib\\mpl_toolkits\\__init__.py -> build\\lib.win-amd64-3.8\\mpl_toolkits\n",
      "  creating build\\lib.win-amd64-3.8\\matplotlib\\axes\n",
      "  copying lib\\matplotlib\\axes\\_axes.py -> build\\lib.win-amd64-3.8\\matplotlib\\axes\n",
      "  copying lib\\matplotlib\\axes\\_base.py -> build\\lib.win-amd64-3.8\\matplotlib\\axes\n",
      "  copying lib\\matplotlib\\axes\\_secondary_axes.py -> build\\lib.win-amd64-3.8\\matplotlib\\axes\n",
      "  copying lib\\matplotlib\\axes\\_subplots.py -> build\\lib.win-amd64-3.8\\matplotlib\\axes\n",
      "  copying lib\\matplotlib\\axes\\__init__.py -> build\\lib.win-amd64-3.8\\matplotlib\\axes\n",
      "  creating build\\lib.win-amd64-3.8\\matplotlib\\backends\n",
      "  copying lib\\matplotlib\\backends\\backend_agg.py -> build\\lib.win-amd64-3.8\\matplotlib\\backends\n",
      "  copying lib\\matplotlib\\backends\\backend_cairo.py -> build\\lib.win-amd64-3.8\\matplotlib\\backends\n",
      "  copying lib\\matplotlib\\backends\\backend_gtk3.py -> build\\lib.win-amd64-3.8\\matplotlib\\backends\n",
      "  copying lib\\matplotlib\\backends\\backend_gtk3agg.py -> build\\lib.win-amd64-3.8\\matplotlib\\backends\n",
      "  copying lib\\matplotlib\\backends\\backend_gtk3cairo.py -> build\\lib.win-amd64-3.8\\matplotlib\\backends\n",
      "  copying lib\\matplotlib\\backends\\backend_macosx.py -> build\\lib.win-amd64-3.8\\matplotlib\\backends\n",
      "  copying lib\\matplotlib\\backends\\backend_mixed.py -> build\\lib.win-amd64-3.8\\matplotlib\\backends\n",
      "  copying lib\\matplotlib\\backends\\backend_nbagg.py -> build\\lib.win-amd64-3.8\\matplotlib\\backends\n",
      "  copying lib\\matplotlib\\backends\\backend_pdf.py -> build\\lib.win-amd64-3.8\\matplotlib\\backends\n",
      "  copying lib\\matplotlib\\backends\\backend_pgf.py -> build\\lib.win-amd64-3.8\\matplotlib\\backends\n",
      "  copying lib\\matplotlib\\backends\\backend_ps.py -> build\\lib.win-amd64-3.8\\matplotlib\\backends\n",
      "  copying lib\\matplotlib\\backends\\backend_qt4.py -> build\\lib.win-amd64-3.8\\matplotlib\\backends\n",
      "  copying lib\\matplotlib\\backends\\backend_qt4agg.py -> build\\lib.win-amd64-3.8\\matplotlib\\backends\n",
      "  copying lib\\matplotlib\\backends\\backend_qt4cairo.py -> build\\lib.win-amd64-3.8\\matplotlib\\backends\n",
      "  copying lib\\matplotlib\\backends\\backend_qt5.py -> build\\lib.win-amd64-3.8\\matplotlib\\backends\n",
      "  copying lib\\matplotlib\\backends\\backend_qt5agg.py -> build\\lib.win-amd64-3.8\\matplotlib\\backends\n",
      "  copying lib\\matplotlib\\backends\\backend_qt5cairo.py -> build\\lib.win-amd64-3.8\\matplotlib\\backends\n",
      "  copying lib\\matplotlib\\backends\\backend_svg.py -> build\\lib.win-amd64-3.8\\matplotlib\\backends\n",
      "  copying lib\\matplotlib\\backends\\backend_template.py -> build\\lib.win-amd64-3.8\\matplotlib\\backends\n",
      "  copying lib\\matplotlib\\backends\\backend_tkagg.py -> build\\lib.win-amd64-3.8\\matplotlib\\backends\n",
      "  copying lib\\matplotlib\\backends\\backend_tkcairo.py -> build\\lib.win-amd64-3.8\\matplotlib\\backends\n",
      "  copying lib\\matplotlib\\backends\\backend_webagg.py -> build\\lib.win-amd64-3.8\\matplotlib\\backends\n",
      "  copying lib\\matplotlib\\backends\\backend_webagg_core.py -> build\\lib.win-amd64-3.8\\matplotlib\\backends\n",
      "  copying lib\\matplotlib\\backends\\backend_wx.py -> build\\lib.win-amd64-3.8\\matplotlib\\backends\n",
      "  copying lib\\matplotlib\\backends\\backend_wxagg.py -> build\\lib.win-amd64-3.8\\matplotlib\\backends\n",
      "  copying lib\\matplotlib\\backends\\backend_wxcairo.py -> build\\lib.win-amd64-3.8\\matplotlib\\backends\n",
      "  copying lib\\matplotlib\\backends\\qt_compat.py -> build\\lib.win-amd64-3.8\\matplotlib\\backends\n",
      "  copying lib\\matplotlib\\backends\\tkagg.py -> build\\lib.win-amd64-3.8\\matplotlib\\backends\n",
      "  copying lib\\matplotlib\\backends\\windowing.py -> build\\lib.win-amd64-3.8\\matplotlib\\backends\n",
      "  copying lib\\matplotlib\\backends\\wx_compat.py -> build\\lib.win-amd64-3.8\\matplotlib\\backends\n",
      "  copying lib\\matplotlib\\backends\\_backend_pdf_ps.py -> build\\lib.win-amd64-3.8\\matplotlib\\backends\n",
      "  copying lib\\matplotlib\\backends\\_backend_tk.py -> build\\lib.win-amd64-3.8\\matplotlib\\backends\n",
      "  copying lib\\matplotlib\\backends\\__init__.py -> build\\lib.win-amd64-3.8\\matplotlib\\backends\n",
      "  creating build\\lib.win-amd64-3.8\\matplotlib\\cbook\n",
      "  copying lib\\matplotlib\\cbook\\deprecation.py -> build\\lib.win-amd64-3.8\\matplotlib\\cbook\n",
      "  copying lib\\matplotlib\\cbook\\__init__.py -> build\\lib.win-amd64-3.8\\matplotlib\\cbook\n",
      "  creating build\\lib.win-amd64-3.8\\matplotlib\\compat\n",
      "  copying lib\\matplotlib\\compat\\subprocess.py -> build\\lib.win-amd64-3.8\\matplotlib\\compat\n",
      "  copying lib\\matplotlib\\compat\\__init__.py -> build\\lib.win-amd64-3.8\\matplotlib\\compat\n",
      "  creating build\\lib.win-amd64-3.8\\matplotlib\\projections\n",
      "  copying lib\\matplotlib\\projections\\geo.py -> build\\lib.win-amd64-3.8\\matplotlib\\projections\n",
      "  copying lib\\matplotlib\\projections\\polar.py -> build\\lib.win-amd64-3.8\\matplotlib\\projections\n",
      "  copying lib\\matplotlib\\projections\\__init__.py -> build\\lib.win-amd64-3.8\\matplotlib\\projections\n",
      "  creating build\\lib.win-amd64-3.8\\matplotlib\\sphinxext\n",
      "  copying lib\\matplotlib\\sphinxext\\mathmpl.py -> build\\lib.win-amd64-3.8\\matplotlib\\sphinxext\n",
      "  copying lib\\matplotlib\\sphinxext\\plot_directive.py -> build\\lib.win-amd64-3.8\\matplotlib\\sphinxext\n",
      "  copying lib\\matplotlib\\sphinxext\\__init__.py -> build\\lib.win-amd64-3.8\\matplotlib\\sphinxext\n",
      "  creating build\\lib.win-amd64-3.8\\matplotlib\\style\n",
      "  copying lib\\matplotlib\\style\\core.py -> build\\lib.win-amd64-3.8\\matplotlib\\style\n",
      "  copying lib\\matplotlib\\style\\__init__.py -> build\\lib.win-amd64-3.8\\matplotlib\\style\n",
      "  creating build\\lib.win-amd64-3.8\\matplotlib\\testing\n",
      "  copying lib\\matplotlib\\testing\\compare.py -> build\\lib.win-amd64-3.8\\matplotlib\\testing\n",
      "  copying lib\\matplotlib\\testing\\conftest.py -> build\\lib.win-amd64-3.8\\matplotlib\\testing\n",
      "  copying lib\\matplotlib\\testing\\decorators.py -> build\\lib.win-amd64-3.8\\matplotlib\\testing\n",
      "  copying lib\\matplotlib\\testing\\determinism.py -> build\\lib.win-amd64-3.8\\matplotlib\\testing\n",
      "  copying lib\\matplotlib\\testing\\disable_internet.py -> build\\lib.win-amd64-3.8\\matplotlib\\testing\n",
      "  copying lib\\matplotlib\\testing\\exceptions.py -> build\\lib.win-amd64-3.8\\matplotlib\\testing\n",
      "  copying lib\\matplotlib\\testing\\__init__.py -> build\\lib.win-amd64-3.8\\matplotlib\\testing\n",
      "  creating build\\lib.win-amd64-3.8\\matplotlib\\tri\n",
      "  copying lib\\matplotlib\\tri\\triangulation.py -> build\\lib.win-amd64-3.8\\matplotlib\\tri\n",
      "  copying lib\\matplotlib\\tri\\tricontour.py -> build\\lib.win-amd64-3.8\\matplotlib\\tri\n",
      "  copying lib\\matplotlib\\tri\\trifinder.py -> build\\lib.win-amd64-3.8\\matplotlib\\tri\n",
      "  copying lib\\matplotlib\\tri\\triinterpolate.py -> build\\lib.win-amd64-3.8\\matplotlib\\tri\n",
      "  copying lib\\matplotlib\\tri\\tripcolor.py -> build\\lib.win-amd64-3.8\\matplotlib\\tri\n",
      "  copying lib\\matplotlib\\tri\\triplot.py -> build\\lib.win-amd64-3.8\\matplotlib\\tri\n",
      "  copying lib\\matplotlib\\tri\\trirefine.py -> build\\lib.win-amd64-3.8\\matplotlib\\tri\n",
      "  copying lib\\matplotlib\\tri\\tritools.py -> build\\lib.win-amd64-3.8\\matplotlib\\tri\n",
      "  copying lib\\matplotlib\\tri\\__init__.py -> build\\lib.win-amd64-3.8\\matplotlib\\tri\n",
      "  creating build\\lib.win-amd64-3.8\\matplotlib\\backends\\qt_editor\n",
      "  copying lib\\matplotlib\\backends\\qt_editor\\figureoptions.py -> build\\lib.win-amd64-3.8\\matplotlib\\backends\\qt_editor\n",
      "  copying lib\\matplotlib\\backends\\qt_editor\\formlayout.py -> build\\lib.win-amd64-3.8\\matplotlib\\backends\\qt_editor\n",
      "  copying lib\\matplotlib\\backends\\qt_editor\\formsubplottool.py -> build\\lib.win-amd64-3.8\\matplotlib\\backends\\qt_editor\n",
      "  copying lib\\matplotlib\\backends\\qt_editor\\_formlayout.py -> build\\lib.win-amd64-3.8\\matplotlib\\backends\\qt_editor\n",
      "  copying lib\\matplotlib\\backends\\qt_editor\\__init__.py -> build\\lib.win-amd64-3.8\\matplotlib\\backends\\qt_editor\n",
      "  creating build\\lib.win-amd64-3.8\\matplotlib\\testing\\jpl_units\n",
      "  copying lib\\matplotlib\\testing\\jpl_units\\Duration.py -> build\\lib.win-amd64-3.8\\matplotlib\\testing\\jpl_units\n",
      "  copying lib\\matplotlib\\testing\\jpl_units\\Epoch.py -> build\\lib.win-amd64-3.8\\matplotlib\\testing\\jpl_units\n",
      "  copying lib\\matplotlib\\testing\\jpl_units\\EpochConverter.py -> build\\lib.win-amd64-3.8\\matplotlib\\testing\\jpl_units\n",
      "  copying lib\\matplotlib\\testing\\jpl_units\\StrConverter.py -> build\\lib.win-amd64-3.8\\matplotlib\\testing\\jpl_units\n",
      "  copying lib\\matplotlib\\testing\\jpl_units\\UnitDbl.py -> build\\lib.win-amd64-3.8\\matplotlib\\testing\\jpl_units\n",
      "  copying lib\\matplotlib\\testing\\jpl_units\\UnitDblConverter.py -> build\\lib.win-amd64-3.8\\matplotlib\\testing\\jpl_units\n",
      "  copying lib\\matplotlib\\testing\\jpl_units\\UnitDblFormatter.py -> build\\lib.win-amd64-3.8\\matplotlib\\testing\\jpl_units\n",
      "  copying lib\\matplotlib\\testing\\jpl_units\\__init__.py -> build\\lib.win-amd64-3.8\\matplotlib\\testing\\jpl_units\n",
      "  creating build\\lib.win-amd64-3.8\\mpl_toolkits\\axes_grid\n",
      "  copying lib\\mpl_toolkits\\axes_grid\\anchored_artists.py -> build\\lib.win-amd64-3.8\\mpl_toolkits\\axes_grid\n",
      "  copying lib\\mpl_toolkits\\axes_grid\\angle_helper.py -> build\\lib.win-amd64-3.8\\mpl_toolkits\\axes_grid\n",
      "  copying lib\\mpl_toolkits\\axes_grid\\axes_divider.py -> build\\lib.win-amd64-3.8\\mpl_toolkits\\axes_grid\n",
      "  copying lib\\mpl_toolkits\\axes_grid\\axes_grid.py -> build\\lib.win-amd64-3.8\\mpl_toolkits\\axes_grid\n",
      "  copying lib\\mpl_toolkits\\axes_grid\\axes_rgb.py -> build\\lib.win-amd64-3.8\\mpl_toolkits\\axes_grid\n",
      "  copying lib\\mpl_toolkits\\axes_grid\\axes_size.py -> build\\lib.win-amd64-3.8\\mpl_toolkits\\axes_grid\n",
      "  copying lib\\mpl_toolkits\\axes_grid\\axislines.py -> build\\lib.win-amd64-3.8\\mpl_toolkits\\axes_grid\n",
      "  copying lib\\mpl_toolkits\\axes_grid\\axisline_style.py -> build\\lib.win-amd64-3.8\\mpl_toolkits\\axes_grid\n",
      "  copying lib\\mpl_toolkits\\axes_grid\\axis_artist.py -> build\\lib.win-amd64-3.8\\mpl_toolkits\\axes_grid\n",
      "  copying lib\\mpl_toolkits\\axes_grid\\clip_path.py -> build\\lib.win-amd64-3.8\\mpl_toolkits\\axes_grid\n",
      "  copying lib\\mpl_toolkits\\axes_grid\\colorbar.py -> build\\lib.win-amd64-3.8\\mpl_toolkits\\axes_grid\n",
      "  copying lib\\mpl_toolkits\\axes_grid\\floating_axes.py -> build\\lib.win-amd64-3.8\\mpl_toolkits\\axes_grid\n",
      "  copying lib\\mpl_toolkits\\axes_grid\\grid_finder.py -> build\\lib.win-amd64-3.8\\mpl_toolkits\\axes_grid\n",
      "  copying lib\\mpl_toolkits\\axes_grid\\grid_helper_curvelinear.py -> build\\lib.win-amd64-3.8\\mpl_toolkits\\axes_grid\n",
      "  copying lib\\mpl_toolkits\\axes_grid\\inset_locator.py -> build\\lib.win-amd64-3.8\\mpl_toolkits\\axes_grid\n",
      "  copying lib\\mpl_toolkits\\axes_grid\\parasite_axes.py -> build\\lib.win-amd64-3.8\\mpl_toolkits\\axes_grid\n",
      "  copying lib\\mpl_toolkits\\axes_grid\\__init__.py -> build\\lib.win-amd64-3.8\\mpl_toolkits\\axes_grid\n",
      "  creating build\\lib.win-amd64-3.8\\mpl_toolkits\\axes_grid1\n",
      "  copying lib\\mpl_toolkits\\axes_grid1\\anchored_artists.py -> build\\lib.win-amd64-3.8\\mpl_toolkits\\axes_grid1\n",
      "  copying lib\\mpl_toolkits\\axes_grid1\\axes_divider.py -> build\\lib.win-amd64-3.8\\mpl_toolkits\\axes_grid1\n",
      "  copying lib\\mpl_toolkits\\axes_grid1\\axes_grid.py -> build\\lib.win-amd64-3.8\\mpl_toolkits\\axes_grid1\n",
      "  copying lib\\mpl_toolkits\\axes_grid1\\axes_rgb.py -> build\\lib.win-amd64-3.8\\mpl_toolkits\\axes_grid1\n",
      "  copying lib\\mpl_toolkits\\axes_grid1\\axes_size.py -> build\\lib.win-amd64-3.8\\mpl_toolkits\\axes_grid1\n",
      "  copying lib\\mpl_toolkits\\axes_grid1\\colorbar.py -> build\\lib.win-amd64-3.8\\mpl_toolkits\\axes_grid1\n",
      "  copying lib\\mpl_toolkits\\axes_grid1\\inset_locator.py -> build\\lib.win-amd64-3.8\\mpl_toolkits\\axes_grid1\n",
      "  copying lib\\mpl_toolkits\\axes_grid1\\mpl_axes.py -> build\\lib.win-amd64-3.8\\mpl_toolkits\\axes_grid1\n",
      "  copying lib\\mpl_toolkits\\axes_grid1\\parasite_axes.py -> build\\lib.win-amd64-3.8\\mpl_toolkits\\axes_grid1\n",
      "  copying lib\\mpl_toolkits\\axes_grid1\\__init__.py -> build\\lib.win-amd64-3.8\\mpl_toolkits\\axes_grid1\n",
      "  creating build\\lib.win-amd64-3.8\\mpl_toolkits\\axisartist\n",
      "  copying lib\\mpl_toolkits\\axisartist\\angle_helper.py -> build\\lib.win-amd64-3.8\\mpl_toolkits\\axisartist\n",
      "  copying lib\\mpl_toolkits\\axisartist\\axes_divider.py -> build\\lib.win-amd64-3.8\\mpl_toolkits\\axisartist\n",
      "  copying lib\\mpl_toolkits\\axisartist\\axes_grid.py -> build\\lib.win-amd64-3.8\\mpl_toolkits\\axisartist\n",
      "  copying lib\\mpl_toolkits\\axisartist\\axes_rgb.py -> build\\lib.win-amd64-3.8\\mpl_toolkits\\axisartist\n",
      "  copying lib\\mpl_toolkits\\axisartist\\axislines.py -> build\\lib.win-amd64-3.8\\mpl_toolkits\\axisartist\n",
      "  copying lib\\mpl_toolkits\\axisartist\\axisline_style.py -> build\\lib.win-amd64-3.8\\mpl_toolkits\\axisartist\n",
      "  copying lib\\mpl_toolkits\\axisartist\\axis_artist.py -> build\\lib.win-amd64-3.8\\mpl_toolkits\\axisartist\n",
      "  copying lib\\mpl_toolkits\\axisartist\\clip_path.py -> build\\lib.win-amd64-3.8\\mpl_toolkits\\axisartist\n",
      "  copying lib\\mpl_toolkits\\axisartist\\floating_axes.py -> build\\lib.win-amd64-3.8\\mpl_toolkits\\axisartist\n",
      "  copying lib\\mpl_toolkits\\axisartist\\grid_finder.py -> build\\lib.win-amd64-3.8\\mpl_toolkits\\axisartist\n",
      "  copying lib\\mpl_toolkits\\axisartist\\grid_helper_curvelinear.py -> build\\lib.win-amd64-3.8\\mpl_toolkits\\axisartist\n",
      "  copying lib\\mpl_toolkits\\axisartist\\parasite_axes.py -> build\\lib.win-amd64-3.8\\mpl_toolkits\\axisartist\n",
      "  copying lib\\mpl_toolkits\\axisartist\\__init__.py -> build\\lib.win-amd64-3.8\\mpl_toolkits\\axisartist\n",
      "  creating build\\lib.win-amd64-3.8\\mpl_toolkits\\mplot3d\n",
      "  copying lib\\mpl_toolkits\\mplot3d\\art3d.py -> build\\lib.win-amd64-3.8\\mpl_toolkits\\mplot3d\n",
      "  copying lib\\mpl_toolkits\\mplot3d\\axes3d.py -> build\\lib.win-amd64-3.8\\mpl_toolkits\\mplot3d\n",
      "  copying lib\\mpl_toolkits\\mplot3d\\axis3d.py -> build\\lib.win-amd64-3.8\\mpl_toolkits\\mplot3d\n",
      "  copying lib\\mpl_toolkits\\mplot3d\\proj3d.py -> build\\lib.win-amd64-3.8\\mpl_toolkits\\mplot3d\n",
      "  copying lib\\mpl_toolkits\\mplot3d\\__init__.py -> build\\lib.win-amd64-3.8\\mpl_toolkits\\mplot3d\n",
      "  creating build\\lib.win-amd64-3.8\\matplotlib\\mpl-data\n",
      "  creating build\\lib.win-amd64-3.8\\matplotlib\\mpl-data\\images\n",
      "  copying lib\\matplotlib\\mpl-data\\images\\back.svg -> build\\lib.win-amd64-3.8\\matplotlib\\mpl-data\\images\n",
      "  creating build\\lib.win-amd64-3.8\\matplotlib\\mpl-data\\fonts\n",
      "  creating build\\lib.win-amd64-3.8\\matplotlib\\mpl-data\\fonts\\afm\n",
      "  copying lib\\matplotlib\\mpl-data\\fonts\\afm\\putb8a.afm -> build\\lib.win-amd64-3.8\\matplotlib\\mpl-data\\fonts\\afm\n",
      "  copying lib\\matplotlib\\mpl-data\\fonts\\afm\\phvro8an.afm -> build\\lib.win-amd64-3.8\\matplotlib\\mpl-data\\fonts\\afm\n",
      "  copying lib\\matplotlib\\mpl-data\\images\\hand.pdf -> build\\lib.win-amd64-3.8\\matplotlib\\mpl-data\\images\n",
      "  creating build\\lib.win-amd64-3.8\\matplotlib\\mpl-data\\sample_data\n",
      "  copying lib\\matplotlib\\mpl-data\\sample_data\\msft.csv -> build\\lib.win-amd64-3.8\\matplotlib\\mpl-data\\sample_data\n",
      "  copying lib\\matplotlib\\mpl-data\\images\\zoom_to_rect.pdf -> build\\lib.win-amd64-3.8\\matplotlib\\mpl-data\\images\n",
      "  creating build\\lib.win-amd64-3.8\\matplotlib\\mpl-data\\fonts\\pdfcorefonts\n",
      "  copying lib\\matplotlib\\mpl-data\\fonts\\pdfcorefonts\\Courier-BoldOblique.afm -> build\\lib.win-amd64-3.8\\matplotlib\\mpl-data\\fonts\\pdfcorefonts\n",
      "  copying lib\\matplotlib\\mpl-data\\fonts\\pdfcorefonts\\readme.txt -> build\\lib.win-amd64-3.8\\matplotlib\\mpl-data\\fonts\\pdfcorefonts\n",
      "  creating build\\lib.win-amd64-3.8\\matplotlib\\mpl-data\\fonts\\ttf\n",
      "  copying lib\\matplotlib\\mpl-data\\fonts\\ttf\\DejaVuSans-Bold.ttf -> build\\lib.win-amd64-3.8\\matplotlib\\mpl-data\\fonts\\ttf\n",
      "  copying lib\\matplotlib\\mpl-data\\fonts\\ttf\\DejaVuSerifDisplay.ttf -> build\\lib.win-amd64-3.8\\matplotlib\\mpl-data\\fonts\\ttf\n",
      "  copying lib\\matplotlib\\mpl-data\\sample_data\\grace_hopper.jpg -> build\\lib.win-amd64-3.8\\matplotlib\\mpl-data\\sample_data\n",
      "  copying lib\\matplotlib\\mpl-data\\fonts\\ttf\\DejaVuSans-BoldOblique.ttf -> build\\lib.win-amd64-3.8\\matplotlib\\mpl-data\\fonts\\ttf\n",
      "  copying lib\\matplotlib\\mpl-data\\images\\filesave_large.png -> build\\lib.win-amd64-3.8\\matplotlib\\mpl-data\\images\n",
      "  copying lib\\matplotlib\\mpl-data\\fonts\\afm\\putri8a.afm -> build\\lib.win-amd64-3.8\\matplotlib\\mpl-data\\fonts\\afm\n",
      "  copying lib\\matplotlib\\mpl-data\\fonts\\ttf\\DejaVuSansMono.ttf -> build\\lib.win-amd64-3.8\\matplotlib\\mpl-data\\fonts\\ttf\n",
      "  copying lib\\matplotlib\\mpl-data\\fonts\\afm\\pagd8a.afm -> build\\lib.win-amd64-3.8\\matplotlib\\mpl-data\\fonts\\afm\n",
      "  copying lib\\matplotlib\\mpl-data\\images\\zoom_to_rect.png -> build\\lib.win-amd64-3.8\\matplotlib\\mpl-data\\images\n",
      "  copying lib\\matplotlib\\mpl-data\\images\\zoom_to_rect_large.png -> build\\lib.win-amd64-3.8\\matplotlib\\mpl-data\\images\n",
      "  creating build\\lib.win-amd64-3.8\\matplotlib\\mpl-data\\stylelib\n",
      "  copying lib\\matplotlib\\mpl-data\\stylelib\\dark_background.mplstyle -> build\\lib.win-amd64-3.8\\matplotlib\\mpl-data\\stylelib\n",
      "  copying lib\\matplotlib\\mpl-data\\fonts\\ttf\\LICENSE_STIX -> build\\lib.win-amd64-3.8\\matplotlib\\mpl-data\\fonts\\ttf\n",
      "  creating build\\lib.win-amd64-3.8\\matplotlib\\backends\\web_backend\n",
      "  creating build\\lib.win-amd64-3.8\\matplotlib\\backends\\web_backend\\js\n",
      "  copying lib\\matplotlib\\backends\\web_backend\\js\\mpl_tornado.js -> build\\lib.win-amd64-3.8\\matplotlib\\backends\\web_backend\\js\n",
      "  copying lib\\matplotlib\\mpl-data\\fonts\\afm\\pagk8a.afm -> build\\lib.win-amd64-3.8\\matplotlib\\mpl-data\\fonts\\afm\n",
      "  copying lib\\matplotlib\\mpl-data\\fonts\\afm\\phvlo8a.afm -> build\\lib.win-amd64-3.8\\matplotlib\\mpl-data\\fonts\\afm\n",
      "  creating build\\lib.win-amd64-3.8\\matplotlib\\backends\\web_backend\\jquery-ui-1.12.1\n",
      "  creating build\\lib.win-amd64-3.8\\matplotlib\\backends\\web_backend\\jquery-ui-1.12.1\\images\n",
      "  copying lib\\matplotlib\\backends\\web_backend\\jquery-ui-1.12.1\\images\\ui-icons_444444_256x240.png -> build\\lib.win-amd64-3.8\\matplotlib\\backends\\web_backend\\jquery-ui-1.12.1\\images\n",
      "  copying lib\\matplotlib\\mpl-data\\fonts\\afm\\phvl8a.afm -> build\\lib.win-amd64-3.8\\matplotlib\\mpl-data\\fonts\\afm\n",
      "  copying lib\\matplotlib\\backends\\web_backend\\ipython_inline_figure.html -> build\\lib.win-amd64-3.8\\matplotlib\\backends\\web_backend\n",
      "  copying lib\\matplotlib\\mpl-data\\sample_data\\Minduka_Present_Blue_Pack.png -> build\\lib.win-amd64-3.8\\matplotlib\\mpl-data\\sample_data\n",
      "  copying lib\\matplotlib\\mpl-data\\sample_data\\topobathy.npz -> build\\lib.win-amd64-3.8\\matplotlib\\mpl-data\\sample_data\n",
      "  copying lib\\matplotlib\\mpl-data\\fonts\\afm\\cmtt10.afm -> build\\lib.win-amd64-3.8\\matplotlib\\mpl-data\\fonts\\afm\n",
      "  copying lib\\matplotlib\\mpl-data\\images\\hand_large.gif -> build\\lib.win-amd64-3.8\\matplotlib\\mpl-data\\images\n",
      "  copying lib\\matplotlib\\mpl-data\\images\\matplotlib.pdf -> build\\lib.win-amd64-3.8\\matplotlib\\mpl-data\\images\n",
      "  copying lib\\matplotlib\\mpl-data\\images\\move_large.png -> build\\lib.win-amd64-3.8\\matplotlib\\mpl-data\\images\n",
      "  copying lib\\matplotlib\\mpl-data\\fonts\\ttf\\STIXSizThreeSymBol.ttf -> build\\lib.win-amd64-3.8\\matplotlib\\mpl-data\\fonts\\ttf\n",
      "  copying lib\\matplotlib\\mpl-data\\images\\filesave_large.gif -> build\\lib.win-amd64-3.8\\matplotlib\\mpl-data\\images\n",
      "  copying lib\\matplotlib\\mpl-data\\fonts\\ttf\\cmmi10.ttf -> build\\lib.win-amd64-3.8\\matplotlib\\mpl-data\\fonts\\ttf\n",
      "  copying lib\\matplotlib\\mpl-data\\stylelib\\seaborn-paper.mplstyle -> build\\lib.win-amd64-3.8\\matplotlib\\mpl-data\\stylelib\n",
      "  copying lib\\matplotlib\\mpl-data\\fonts\\pdfcorefonts\\ZapfDingbats.afm -> build\\lib.win-amd64-3.8\\matplotlib\\mpl-data\\fonts\\pdfcorefonts\n",
      "  copying lib\\matplotlib\\mpl-data\\fonts\\afm\\pbkd8a.afm -> build\\lib.win-amd64-3.8\\matplotlib\\mpl-data\\fonts\\afm\n",
      "  copying lib\\matplotlib\\mpl-data\\images\\home_large.gif -> build\\lib.win-amd64-3.8\\matplotlib\\mpl-data\\images\n",
      "  copying lib\\matplotlib\\mpl-data\\fonts\\afm\\pcrb8a.afm -> build\\lib.win-amd64-3.8\\matplotlib\\mpl-data\\fonts\\afm\n",
      "  copying lib\\matplotlib\\mpl-data\\fonts\\afm\\psyr.afm -> build\\lib.win-amd64-3.8\\matplotlib\\mpl-data\\fonts\\afm\n",
      "  copying lib\\matplotlib\\mpl-data\\images\\move_large.gif -> build\\lib.win-amd64-3.8\\matplotlib\\mpl-data\\images\n",
      "  copying lib\\matplotlib\\mpl-data\\images\\back_large.gif -> build\\lib.win-amd64-3.8\\matplotlib\\mpl-data\\images\n",
      "  copying lib\\matplotlib\\backends\\web_backend\\jquery-ui-1.12.1\\LICENSE.txt -> build\\lib.win-amd64-3.8\\matplotlib\\backends\\web_backend\\jquery-ui-1.12.1\n",
      "  copying lib\\matplotlib\\mpl-data\\images\\hand.svg -> build\\lib.win-amd64-3.8\\matplotlib\\mpl-data\\images\n",
      "  copying lib\\matplotlib\\mpl-data\\fonts\\afm\\phvro8a.afm -> build\\lib.win-amd64-3.8\\matplotlib\\mpl-data\\fonts\\afm\n",
      "  copying lib\\matplotlib\\mpl-data\\fonts\\afm\\pplr8a.afm -> build\\lib.win-amd64-3.8\\matplotlib\\mpl-data\\fonts\\afm\n",
      "  copying lib\\matplotlib\\backends\\web_backend\\jquery-ui-1.12.1\\package.json -> build\\lib.win-amd64-3.8\\matplotlib\\backends\\web_backend\\jquery-ui-1.12.1\n",
      "  copying lib\\matplotlib\\mpl-data\\fonts\\afm\\cmex10.afm -> build\\lib.win-amd64-3.8\\matplotlib\\mpl-data\\fonts\\afm\n",
      "  copying lib\\matplotlib\\mpl-data\\fonts\\pdfcorefonts\\Times-Roman.afm -> build\\lib.win-amd64-3.8\\matplotlib\\mpl-data\\fonts\\pdfcorefonts\n",
      "  copying lib\\matplotlib\\mpl-data\\images\\hand.png -> build\\lib.win-amd64-3.8\\matplotlib\\mpl-data\\images\n",
      "  copying lib\\matplotlib\\mpl-data\\images\\help_large.png -> build\\lib.win-amd64-3.8\\matplotlib\\mpl-data\\images\n",
      "  copying lib\\matplotlib\\mpl-data\\stylelib\\ggplot.mplstyle -> build\\lib.win-amd64-3.8\\matplotlib\\mpl-data\\stylelib\n",
      "  copying lib\\matplotlib\\mpl-data\\images\\help.png -> build\\lib.win-amd64-3.8\\matplotlib\\mpl-data\\images\n",
      "  copying lib\\matplotlib\\mpl-data\\fonts\\ttf\\STIXSizFourSymBol.ttf -> build\\lib.win-amd64-3.8\\matplotlib\\mpl-data\\fonts\\ttf\n",
      "  copying lib\\matplotlib\\mpl-data\\images\\qt4_editor_options.png -> build\\lib.win-amd64-3.8\\matplotlib\\mpl-data\\images\n",
      "  copying lib\\matplotlib\\mpl-data\\stylelib\\seaborn-bright.mplstyle -> build\\lib.win-amd64-3.8\\matplotlib\\mpl-data\\stylelib\n",
      "  copying lib\\matplotlib\\mpl-data\\images\\filesave.png -> build\\lib.win-amd64-3.8\\matplotlib\\mpl-data\\images\n",
      "  copying lib\\matplotlib\\mpl-data\\stylelib\\classic.mplstyle -> build\\lib.win-amd64-3.8\\matplotlib\\mpl-data\\stylelib\n",
      "  copying lib\\matplotlib\\mpl-data\\sample_data\\goog.npz -> build\\lib.win-amd64-3.8\\matplotlib\\mpl-data\\sample_data\n",
      "  copying lib\\matplotlib\\mpl-data\\images\\qt4_editor_options.pdf -> build\\lib.win-amd64-3.8\\matplotlib\\mpl-data\\images\n",
      "  copying lib\\matplotlib\\mpl-data\\images\\forward.gif -> build\\lib.win-amd64-3.8\\matplotlib\\mpl-data\\images\n",
      "  creating build\\lib.win-amd64-3.8\\matplotlib\\backends\\web_backend\\jquery\n",
      "  creating build\\lib.win-amd64-3.8\\matplotlib\\backends\\web_backend\\jquery\\js\n",
      "  copying lib\\matplotlib\\backends\\web_backend\\jquery\\js\\jquery.js -> build\\lib.win-amd64-3.8\\matplotlib\\backends\\web_backend\\jquery\\js\n",
      "  copying lib\\matplotlib\\mpl-data\\fonts\\pdfcorefonts\\Helvetica-Bold.afm -> build\\lib.win-amd64-3.8\\matplotlib\\mpl-data\\fonts\\pdfcorefonts\n",
      "  copying lib\\matplotlib\\mpl-data\\stylelib\\seaborn.mplstyle -> build\\lib.win-amd64-3.8\\matplotlib\\mpl-data\\stylelib\n",
      "  copying lib\\matplotlib\\mpl-data\\fonts\\ttf\\DejaVuSerif.ttf -> build\\lib.win-amd64-3.8\\matplotlib\\mpl-data\\fonts\\ttf\n",
      "  copying lib\\matplotlib\\mpl-data\\sample_data\\ct.raw.gz -> build\\lib.win-amd64-3.8\\matplotlib\\mpl-data\\sample_data\n",
      "  copying lib\\matplotlib\\mpl-data\\fonts\\ttf\\STIXSizOneSymReg.ttf -> build\\lib.win-amd64-3.8\\matplotlib\\mpl-data\\fonts\\ttf\n",
      "  copying lib\\matplotlib\\mpl-data\\fonts\\ttf\\cmb10.ttf -> build\\lib.win-amd64-3.8\\matplotlib\\mpl-data\\fonts\\ttf\n",
      "  copying lib\\matplotlib\\mpl-data\\images\\subplots.pdf -> build\\lib.win-amd64-3.8\\matplotlib\\mpl-data\\images\n",
      "  copying lib\\matplotlib\\mpl-data\\fonts\\ttf\\STIXSizTwoSymReg.ttf -> build\\lib.win-amd64-3.8\\matplotlib\\mpl-data\\fonts\\ttf\n",
      "  copying lib\\matplotlib\\mpl-data\\stylelib\\seaborn-colorblind.mplstyle -> build\\lib.win-amd64-3.8\\matplotlib\\mpl-data\\stylelib\n",
      "  copying lib\\matplotlib\\mpl-data\\stylelib\\seaborn-deep.mplstyle -> build\\lib.win-amd64-3.8\\matplotlib\\mpl-data\\stylelib\n",
      "  copying lib\\matplotlib\\backends\\web_backend\\single_figure.html -> build\\lib.win-amd64-3.8\\matplotlib\\backends\\web_backend\n",
      "  copying lib\\matplotlib\\backends\\web_backend\\jquery-ui-1.12.1\\jquery-ui.theme.min.css -> build\\lib.win-amd64-3.8\\matplotlib\\backends\\web_backend\\jquery-ui-1.12.1\n",
      "  copying lib\\matplotlib\\backends\\web_backend\\nbagg_uat.ipynb -> build\\lib.win-amd64-3.8\\matplotlib\\backends\\web_backend\n",
      "  copying lib\\matplotlib\\mpl-data\\images\\back.gif -> build\\lib.win-amd64-3.8\\matplotlib\\mpl-data\\images\n",
      "  copying lib\\matplotlib\\mpl-data\\sample_data\\ada.png -> build\\lib.win-amd64-3.8\\matplotlib\\mpl-data\\sample_data\n",
      "  copying lib\\matplotlib\\mpl-data\\sample_data\\embedding_in_wx3.xrc -> build\\lib.win-amd64-3.8\\matplotlib\\mpl-data\\sample_data\n",
      "  copying lib\\matplotlib\\mpl-data\\fonts\\ttf\\DejaVuSerif-BoldItalic.ttf -> build\\lib.win-amd64-3.8\\matplotlib\\mpl-data\\fonts\\ttf\n",
      "  copying lib\\matplotlib\\mpl-data\\fonts\\afm\\pbkdi8a.afm -> build\\lib.win-amd64-3.8\\matplotlib\\mpl-data\\fonts\\afm\n",
      "  copying lib\\matplotlib\\mpl-data\\fonts\\afm\\pplb8a.afm -> build\\lib.win-amd64-3.8\\matplotlib\\mpl-data\\fonts\\afm\n",
      "  copying lib\\matplotlib\\mpl-data\\fonts\\ttf\\STIXGeneralItalic.ttf -> build\\lib.win-amd64-3.8\\matplotlib\\mpl-data\\fonts\\ttf\n",
      "  copying lib\\matplotlib\\mpl-data\\fonts\\pdfcorefonts\\Courier-Bold.afm -> build\\lib.win-amd64-3.8\\matplotlib\\mpl-data\\fonts\\pdfcorefonts\n",
      "  copying lib\\matplotlib\\mpl-data\\sample_data\\jacksboro_fault_dem.npz -> build\\lib.win-amd64-3.8\\matplotlib\\mpl-data\\sample_data\n",
      "  copying lib\\matplotlib\\mpl-data\\fonts\\afm\\pzdr.afm -> build\\lib.win-amd64-3.8\\matplotlib\\mpl-data\\fonts\\afm\n",
      "  copying lib\\matplotlib\\mpl-data\\fonts\\afm\\pncri8a.afm -> build\\lib.win-amd64-3.8\\matplotlib\\mpl-data\\fonts\\afm\n",
      "  copying lib\\matplotlib\\mpl-data\\fonts\\afm\\phvb8an.afm -> build\\lib.win-amd64-3.8\\matplotlib\\mpl-data\\fonts\\afm\n",
      "  copying lib\\matplotlib\\backends\\web_backend\\jquery-ui-1.12.1\\jquery-ui.structure.min.css -> build\\lib.win-amd64-3.8\\matplotlib\\backends\\web_backend\\jquery-ui-1.12.1\n",
      "  copying lib\\matplotlib\\mpl-data\\sample_data\\data_x_x2_x3.csv -> build\\lib.win-amd64-3.8\\matplotlib\\mpl-data\\sample_data\n",
      "  copying lib\\matplotlib\\mpl-data\\fonts\\ttf\\STIXNonUniBolIta.ttf -> build\\lib.win-amd64-3.8\\matplotlib\\mpl-data\\fonts\\ttf\n",
      "  copying lib\\matplotlib\\mpl-data\\images\\qt4_editor_options_large.png -> build\\lib.win-amd64-3.8\\matplotlib\\mpl-data\\images\n",
      "  copying lib\\matplotlib\\backends\\web_backend\\jquery-ui-1.12.1\\AUTHORS.txt -> build\\lib.win-amd64-3.8\\matplotlib\\backends\\web_backend\\jquery-ui-1.12.1\n",
      "  copying lib\\matplotlib\\mpl-data\\fonts\\pdfcorefonts\\Helvetica-Oblique.afm -> build\\lib.win-amd64-3.8\\matplotlib\\mpl-data\\fonts\\pdfcorefonts\n",
      "  copying lib\\matplotlib\\mpl-data\\fonts\\ttf\\STIXNonUni.ttf -> build\\lib.win-amd64-3.8\\matplotlib\\mpl-data\\fonts\\ttf\n",
      "  copying lib\\matplotlib\\mpl-data\\fonts\\afm\\pcrr8a.afm -> build\\lib.win-amd64-3.8\\matplotlib\\mpl-data\\fonts\\afm\n",
      "  copying lib\\matplotlib\\mpl-data\\images\\back.pdf -> build\\lib.win-amd64-3.8\\matplotlib\\mpl-data\\images\n",
      "  copying lib\\matplotlib\\mpl-data\\sample_data\\demodata.csv -> build\\lib.win-amd64-3.8\\matplotlib\\mpl-data\\sample_data\n",
      "  copying lib\\matplotlib\\mpl-data\\images\\home.png -> build\\lib.win-amd64-3.8\\matplotlib\\mpl-data\\images\n",
      "  copying lib\\matplotlib\\mpl-data\\images\\subplots.png -> build\\lib.win-amd64-3.8\\matplotlib\\mpl-data\\images\n",
      "  copying lib\\matplotlib\\backends\\web_backend\\jquery-ui-1.12.1\\images\\ui-icons_777620_256x240.png -> build\\lib.win-amd64-3.8\\matplotlib\\backends\\web_backend\\jquery-ui-1.12.1\\images\n",
      "  copying lib\\matplotlib\\mpl-data\\images\\move.png -> build\\lib.win-amd64-3.8\\matplotlib\\mpl-data\\images\n",
      "  copying lib\\matplotlib\\mpl-data\\fonts\\afm\\pzcmi8a.afm -> build\\lib.win-amd64-3.8\\matplotlib\\mpl-data\\fonts\\afm\n",
      "  copying lib\\matplotlib\\backends\\web_backend\\jquery\\js\\jquery.min.js -> build\\lib.win-amd64-3.8\\matplotlib\\backends\\web_backend\\jquery\\js\n",
      "  copying lib\\matplotlib\\backends\\web_backend\\jquery-ui-1.12.1\\images\\ui-icons_ffffff_256x240.png -> build\\lib.win-amd64-3.8\\matplotlib\\backends\\web_backend\\jquery-ui-1.12.1\\images\n",
      "  copying lib\\matplotlib\\mpl-data\\images\\subplots_large.gif -> build\\lib.win-amd64-3.8\\matplotlib\\mpl-data\\images\n",
      "  copying lib\\matplotlib\\mpl-data\\images\\forward.svg -> build\\lib.win-amd64-3.8\\matplotlib\\mpl-data\\images\n",
      "  creating build\\lib.win-amd64-3.8\\matplotlib\\backends\\web_backend\\css\n",
      "  copying lib\\matplotlib\\backends\\web_backend\\css\\page.css -> build\\lib.win-amd64-3.8\\matplotlib\\backends\\web_backend\\css\n",
      "  copying lib\\matplotlib\\mpl-data\\images\\subplots.svg -> build\\lib.win-amd64-3.8\\matplotlib\\mpl-data\\images\n",
      "  copying lib\\matplotlib\\mpl-data\\fonts\\pdfcorefonts\\Helvetica.afm -> build\\lib.win-amd64-3.8\\matplotlib\\mpl-data\\fonts\\pdfcorefonts\n",
      "  copying lib\\matplotlib\\mpl-data\\images\\move.gif -> build\\lib.win-amd64-3.8\\matplotlib\\mpl-data\\images\n",
      "  copying lib\\matplotlib\\mpl-data\\sample_data\\s1045.ima.gz -> build\\lib.win-amd64-3.8\\matplotlib\\mpl-data\\sample_data\n",
      "  copying lib\\matplotlib\\mpl-data\\images\\zoom_to_rect.svg -> build\\lib.win-amd64-3.8\\matplotlib\\mpl-data\\images\n",
      "  copying lib\\matplotlib\\mpl-data\\sample_data\\aapl.npz -> build\\lib.win-amd64-3.8\\matplotlib\\mpl-data\\sample_data\n",
      "  copying lib\\matplotlib\\mpl-data\\images\\subplots.gif -> build\\lib.win-amd64-3.8\\matplotlib\\mpl-data\\images\n",
      "  copying lib\\matplotlib\\mpl-data\\images\\home.pdf -> build\\lib.win-amd64-3.8\\matplotlib\\mpl-data\\images\n",
      "  copying lib\\matplotlib\\mpl-data\\fonts\\afm\\pncr8a.afm -> build\\lib.win-amd64-3.8\\matplotlib\\mpl-data\\fonts\\afm\n",
      "  copying lib\\matplotlib\\mpl-data\\fonts\\pdfcorefonts\\Symbol.afm -> build\\lib.win-amd64-3.8\\matplotlib\\mpl-data\\fonts\\pdfcorefonts\n",
      "  copying lib\\matplotlib\\mpl-data\\stylelib\\fast.mplstyle -> build\\lib.win-amd64-3.8\\matplotlib\\mpl-data\\stylelib\n",
      "  copying lib\\matplotlib\\backends\\web_backend\\jquery-ui-1.12.1\\jquery-ui.min.js -> build\\lib.win-amd64-3.8\\matplotlib\\backends\\web_backend\\jquery-ui-1.12.1\n",
      "  copying lib\\matplotlib\\mpl-data\\fonts\\afm\\phvbo8a.afm -> build\\lib.win-amd64-3.8\\matplotlib\\mpl-data\\fonts\\afm\n",
      "  copying lib\\matplotlib\\mpl-data\\stylelib\\fivethirtyeight.mplstyle -> build\\lib.win-amd64-3.8\\matplotlib\\mpl-data\\stylelib\n",
      "  copying lib\\matplotlib\\mpl-data\\matplotlibrc -> build\\lib.win-amd64-3.8\\matplotlib\\mpl-data\n",
      "  copying lib\\matplotlib\\mpl-data\\fonts\\afm\\ptmri8a.afm -> build\\lib.win-amd64-3.8\\matplotlib\\mpl-data\\fonts\\afm\n",
      "  copying lib\\matplotlib\\mpl-data\\fonts\\afm\\phvr8a.afm -> build\\lib.win-amd64-3.8\\matplotlib\\mpl-data\\fonts\\afm\n",
      "  copying lib\\matplotlib\\mpl-data\\sample_data\\None_vs_nearest-pdf.png -> build\\lib.win-amd64-3.8\\matplotlib\\mpl-data\\sample_data\n",
      "  copying lib\\matplotlib\\mpl-data\\fonts\\afm\\putr8a.afm -> build\\lib.win-amd64-3.8\\matplotlib\\mpl-data\\fonts\\afm\n",
      "  copying lib\\matplotlib\\mpl-data\\images\\subplots_large.png -> build\\lib.win-amd64-3.8\\matplotlib\\mpl-data\\images\n",
      "  copying lib\\matplotlib\\mpl-data\\sample_data\\README.txt -> build\\lib.win-amd64-3.8\\matplotlib\\mpl-data\\sample_data\n",
      "  copying lib\\matplotlib\\mpl-data\\images\\move.svg -> build\\lib.win-amd64-3.8\\matplotlib\\mpl-data\\images\n",
      "  copying lib\\matplotlib\\mpl-data\\fonts\\ttf\\STIXSizOneSymBol.ttf -> build\\lib.win-amd64-3.8\\matplotlib\\mpl-data\\fonts\\ttf\n",
      "  copying lib\\matplotlib\\mpl-data\\images\\filesave.pdf -> build\\lib.win-amd64-3.8\\matplotlib\\mpl-data\\images\n",
      "  copying lib\\matplotlib\\mpl-data\\stylelib\\bmh.mplstyle -> build\\lib.win-amd64-3.8\\matplotlib\\mpl-data\\stylelib\n",
      "  copying lib\\matplotlib\\backends\\web_backend\\jquery-ui-1.12.1\\images\\ui-icons_cc0000_256x240.png -> build\\lib.win-amd64-3.8\\matplotlib\\backends\\web_backend\\jquery-ui-1.12.1\\images\n",
      "  copying lib\\matplotlib\\mpl-data\\fonts\\ttf\\STIXSizFiveSymReg.ttf -> build\\lib.win-amd64-3.8\\matplotlib\\mpl-data\\fonts\\ttf\n",
      "  copying lib\\matplotlib\\mpl-data\\sample_data\\membrane.dat -> build\\lib.win-amd64-3.8\\matplotlib\\mpl-data\\sample_data\n",
      "  copying lib\\matplotlib\\mpl-data\\fonts\\afm\\pagdo8a.afm -> build\\lib.win-amd64-3.8\\matplotlib\\mpl-data\\fonts\\afm\n",
      "  copying lib\\matplotlib\\mpl-data\\stylelib\\_classic_test.mplstyle -> build\\lib.win-amd64-3.8\\matplotlib\\mpl-data\\stylelib\n",
      "  copying lib\\matplotlib\\mpl-data\\images\\zoom_to_rect_large.gif -> build\\lib.win-amd64-3.8\\matplotlib\\mpl-data\\images\n",
      "  copying lib\\matplotlib\\mpl-data\\fonts\\afm\\phvbo8an.afm -> build\\lib.win-amd64-3.8\\matplotlib\\mpl-data\\fonts\\afm\n",
      "  copying lib\\matplotlib\\mpl-data\\fonts\\ttf\\STIXGeneralBol.ttf -> build\\lib.win-amd64-3.8\\matplotlib\\mpl-data\\fonts\\ttf\n",
      "  copying lib\\matplotlib\\mpl-data\\stylelib\\seaborn-notebook.mplstyle -> build\\lib.win-amd64-3.8\\matplotlib\\mpl-data\\stylelib\n",
      "  copying lib\\matplotlib\\mpl-data\\fonts\\afm\\putbi8a.afm -> build\\lib.win-amd64-3.8\\matplotlib\\mpl-data\\fonts\\afm\n",
      "  creating build\\lib.win-amd64-3.8\\matplotlib\\mpl-data\\sample_data\\axes_grid\n",
      "  copying lib\\matplotlib\\mpl-data\\sample_data\\axes_grid\\bivariate_normal.npy -> build\\lib.win-amd64-3.8\\matplotlib\\mpl-data\\sample_data\\axes_grid\n",
      "  copying lib\\matplotlib\\mpl-data\\stylelib\\seaborn-talk.mplstyle -> build\\lib.win-amd64-3.8\\matplotlib\\mpl-data\\stylelib\n",
      "  copying lib\\matplotlib\\mpl-data\\fonts\\pdfcorefonts\\Times-BoldItalic.afm -> build\\lib.win-amd64-3.8\\matplotlib\\mpl-data\\fonts\\pdfcorefonts\n",
      "  copying lib\\matplotlib\\mpl-data\\fonts\\ttf\\DejaVuSansMono-Bold.ttf -> build\\lib.win-amd64-3.8\\matplotlib\\mpl-data\\fonts\\ttf\n",
      "  copying lib\\matplotlib\\mpl-data\\images\\home.svg -> build\\lib.win-amd64-3.8\\matplotlib\\mpl-data\\images\n",
      "  copying lib\\matplotlib\\mpl-data\\sample_data\\grace_hopper.png -> build\\lib.win-amd64-3.8\\matplotlib\\mpl-data\\sample_data\n",
      "  copying lib\\matplotlib\\mpl-data\\fonts\\ttf\\DejaVuSansMono-Oblique.ttf -> build\\lib.win-amd64-3.8\\matplotlib\\mpl-data\\fonts\\ttf\n",
      "  copying lib\\matplotlib\\mpl-data\\images\\matplotlib.svg -> build\\lib.win-amd64-3.8\\matplotlib\\mpl-data\\images\n",
      "  copying lib\\matplotlib\\mpl-data\\fonts\\afm\\pbkl8a.afm -> build\\lib.win-amd64-3.8\\matplotlib\\mpl-data\\fonts\\afm\n",
      "  copying lib\\matplotlib\\mpl-data\\images\\home.gif -> build\\lib.win-amd64-3.8\\matplotlib\\mpl-data\\images\n",
      "  copying lib\\matplotlib\\mpl-data\\fonts\\ttf\\DejaVuSerif-Bold.ttf -> build\\lib.win-amd64-3.8\\matplotlib\\mpl-data\\fonts\\ttf\n",
      "  copying lib\\matplotlib\\backends\\web_backend\\jquery-ui-1.12.1\\images\\ui-icons_777777_256x240.png -> build\\lib.win-amd64-3.8\\matplotlib\\backends\\web_backend\\jquery-ui-1.12.1\\images\n",
      "  copying lib\\matplotlib\\backends\\web_backend\\jquery-ui-1.12.1\\index.html -> build\\lib.win-amd64-3.8\\matplotlib\\backends\\web_backend\\jquery-ui-1.12.1\n",
      "  copying lib\\matplotlib\\mpl-data\\images\\forward.pdf -> build\\lib.win-amd64-3.8\\matplotlib\\mpl-data\\images\n",
      "  copying lib\\matplotlib\\mpl-data\\stylelib\\seaborn-darkgrid.mplstyle -> build\\lib.win-amd64-3.8\\matplotlib\\mpl-data\\stylelib\n",
      "  copying lib\\matplotlib\\mpl-data\\images\\matplotlib_large.png -> build\\lib.win-amd64-3.8\\matplotlib\\mpl-data\\images\n",
      "  copying lib\\matplotlib\\mpl-data\\stylelib\\seaborn-muted.mplstyle -> build\\lib.win-amd64-3.8\\matplotlib\\mpl-data\\stylelib\n",
      "  copying lib\\matplotlib\\mpl-data\\fonts\\ttf\\cmsy10.ttf -> build\\lib.win-amd64-3.8\\matplotlib\\mpl-data\\fonts\\ttf\n",
      "  copying lib\\matplotlib\\backends\\web_backend\\js\\nbagg_mpl.js -> build\\lib.win-amd64-3.8\\matplotlib\\backends\\web_backend\\js\n",
      "  copying lib\\matplotlib\\mpl-data\\fonts\\afm\\cmsy10.afm -> build\\lib.win-amd64-3.8\\matplotlib\\mpl-data\\fonts\\afm\n",
      "  copying lib\\matplotlib\\mpl-data\\stylelib\\seaborn-poster.mplstyle -> build\\lib.win-amd64-3.8\\matplotlib\\mpl-data\\stylelib\n",
      "  copying lib\\matplotlib\\backends\\web_backend\\jquery-ui-1.12.1\\images\\ui-icons_555555_256x240.png -> build\\lib.win-amd64-3.8\\matplotlib\\backends\\web_backend\\jquery-ui-1.12.1\\images\n",
      "  copying lib\\matplotlib\\mpl-data\\stylelib\\seaborn-whitegrid.mplstyle -> build\\lib.win-amd64-3.8\\matplotlib\\mpl-data\\stylelib\n",
      "  copying lib\\matplotlib\\mpl-data\\fonts\\afm\\ptmbi8a.afm -> build\\lib.win-amd64-3.8\\matplotlib\\mpl-data\\fonts\\afm\n",
      "  copying lib\\matplotlib\\mpl-data\\fonts\\afm\\ptmb8a.afm -> build\\lib.win-amd64-3.8\\matplotlib\\mpl-data\\fonts\\afm\n"
     ]
    },
    {
     "name": "stderr",
     "output_type": "stream",
     "text": [
      "  copying lib\\matplotlib\\mpl-data\\sample_data\\eeg.dat -> build\\lib.win-amd64-3.8\\matplotlib\\mpl-data\\sample_data\n",
      "  copying lib\\matplotlib\\mpl-data\\fonts\\afm\\phvb8a.afm -> build\\lib.win-amd64-3.8\\matplotlib\\mpl-data\\fonts\\afm\n",
      "  copying lib\\matplotlib\\mpl-data\\fonts\\ttf\\cmex10.ttf -> build\\lib.win-amd64-3.8\\matplotlib\\mpl-data\\fonts\\ttf\n",
      "  copying lib\\matplotlib\\mpl-data\\images\\matplotlib.ppm -> build\\lib.win-amd64-3.8\\matplotlib\\mpl-data\\images\n",
      "  copying lib\\matplotlib\\backends\\web_backend\\css\\boilerplate.css -> build\\lib.win-amd64-3.8\\matplotlib\\backends\\web_backend\\css\n",
      "  copying lib\\matplotlib\\mpl-data\\fonts\\afm\\pplri8a.afm -> build\\lib.win-amd64-3.8\\matplotlib\\mpl-data\\fonts\\afm\n",
      "  copying lib\\matplotlib\\mpl-data\\images\\back.png -> build\\lib.win-amd64-3.8\\matplotlib\\mpl-data\\images\n",
      "  copying lib\\matplotlib\\mpl-data\\fonts\\ttf\\cmtt10.ttf -> build\\lib.win-amd64-3.8\\matplotlib\\mpl-data\\fonts\\ttf\n",
      "  copying lib\\matplotlib\\mpl-data\\fonts\\ttf\\DejaVuSans-Oblique.ttf -> build\\lib.win-amd64-3.8\\matplotlib\\mpl-data\\fonts\\ttf\n",
      "  copying lib\\matplotlib\\mpl-data\\fonts\\afm\\pplbi8a.afm -> build\\lib.win-amd64-3.8\\matplotlib\\mpl-data\\fonts\\afm\n",
      "  copying lib\\matplotlib\\backends\\web_backend\\jquery-ui-1.12.1\\jquery-ui.js -> build\\lib.win-amd64-3.8\\matplotlib\\backends\\web_backend\\jquery-ui-1.12.1\n",
      "  copying lib\\matplotlib\\mpl-data\\fonts\\ttf\\STIXGeneralBolIta.ttf -> build\\lib.win-amd64-3.8\\matplotlib\\mpl-data\\fonts\\ttf\n",
      "  copying lib\\matplotlib\\mpl-data\\fonts\\afm\\pcrbo8a.afm -> build\\lib.win-amd64-3.8\\matplotlib\\mpl-data\\fonts\\afm\n",
      "  copying lib\\matplotlib\\mpl-data\\fonts\\ttf\\LICENSE_DEJAVU -> build\\lib.win-amd64-3.8\\matplotlib\\mpl-data\\fonts\\ttf\n",
      "  copying lib\\matplotlib\\mpl-data\\fonts\\pdfcorefonts\\Courier-Oblique.afm -> build\\lib.win-amd64-3.8\\matplotlib\\mpl-data\\fonts\\pdfcorefonts\n",
      "  copying lib\\matplotlib\\mpl-data\\images\\hand.gif -> build\\lib.win-amd64-3.8\\matplotlib\\mpl-data\\images\n",
      "  copying lib\\matplotlib\\mpl-data\\fonts\\afm\\pcrro8a.afm -> build\\lib.win-amd64-3.8\\matplotlib\\mpl-data\\fonts\\afm\n",
      "  copying lib\\matplotlib\\mpl-data\\fonts\\pdfcorefonts\\Helvetica-BoldOblique.afm -> build\\lib.win-amd64-3.8\\matplotlib\\mpl-data\\fonts\\pdfcorefonts\n",
      "  copying lib\\matplotlib\\mpl-data\\fonts\\ttf\\DejaVuSerif-Italic.ttf -> build\\lib.win-amd64-3.8\\matplotlib\\mpl-data\\fonts\\ttf\n",
      "  copying lib\\matplotlib\\mpl-data\\images\\help.pdf -> build\\lib.win-amd64-3.8\\matplotlib\\mpl-data\\images\n",
      "  copying lib\\matplotlib\\backends\\web_backend\\jquery-ui-1.12.1\\jquery-ui.css -> build\\lib.win-amd64-3.8\\matplotlib\\backends\\web_backend\\jquery-ui-1.12.1\n",
      "  copying lib\\matplotlib\\mpl-data\\images\\filesave.gif -> build\\lib.win-amd64-3.8\\matplotlib\\mpl-data\\images\n",
      "  copying lib\\matplotlib\\mpl-data\\fonts\\ttf\\DejaVuSansMono-BoldOblique.ttf -> build\\lib.win-amd64-3.8\\matplotlib\\mpl-data\\fonts\\ttf\n",
      "  copying lib\\matplotlib\\mpl-data\\fonts\\ttf\\STIXSizFourSymReg.ttf -> build\\lib.win-amd64-3.8\\matplotlib\\mpl-data\\fonts\\ttf\n",
      "  copying lib\\matplotlib\\mpl-data\\stylelib\\seaborn-dark.mplstyle -> build\\lib.win-amd64-3.8\\matplotlib\\mpl-data\\stylelib\n",
      "  copying lib\\matplotlib\\backends\\web_backend\\jquery-ui-1.12.1\\jquery-ui.min.css -> build\\lib.win-amd64-3.8\\matplotlib\\backends\\web_backend\\jquery-ui-1.12.1\n",
      "  copying lib\\matplotlib\\mpl-data\\images\\help_large.ppm -> build\\lib.win-amd64-3.8\\matplotlib\\mpl-data\\images\n",
      "  copying lib\\matplotlib\\mpl-data\\images\\help.ppm -> build\\lib.win-amd64-3.8\\matplotlib\\mpl-data\\images\n",
      "  copying lib\\matplotlib\\mpl-data\\fonts\\ttf\\STIXSizThreeSymReg.ttf -> build\\lib.win-amd64-3.8\\matplotlib\\mpl-data\\fonts\\ttf\n",
      "  copying lib\\matplotlib\\backends\\web_backend\\js\\mpl.js -> build\\lib.win-amd64-3.8\\matplotlib\\backends\\web_backend\\js\n",
      "  copying lib\\matplotlib\\mpl-data\\fonts\\afm\\cmmi10.afm -> build\\lib.win-amd64-3.8\\matplotlib\\mpl-data\\fonts\\afm\n",
      "  copying lib\\matplotlib\\mpl-data\\fonts\\ttf\\STIXNonUniBol.ttf -> build\\lib.win-amd64-3.8\\matplotlib\\mpl-data\\fonts\\ttf\n",
      "  copying lib\\matplotlib\\mpl-data\\images\\forward_large.png -> build\\lib.win-amd64-3.8\\matplotlib\\mpl-data\\images\n",
      "  copying lib\\matplotlib\\mpl-data\\images\\zoom_to_rect.gif -> build\\lib.win-amd64-3.8\\matplotlib\\mpl-data\\images\n",
      "  copying lib\\matplotlib\\mpl-data\\fonts\\afm\\pncbi8a.afm -> build\\lib.win-amd64-3.8\\matplotlib\\mpl-data\\fonts\\afm\n",
      "  copying lib\\matplotlib\\mpl-data\\stylelib\\seaborn-dark-palette.mplstyle -> build\\lib.win-amd64-3.8\\matplotlib\\mpl-data\\stylelib\n",
      "  copying lib\\matplotlib\\mpl-data\\stylelib\\tableau-colorblind10.mplstyle -> build\\lib.win-amd64-3.8\\matplotlib\\mpl-data\\stylelib\n",
      "  creating build\\lib.win-amd64-3.8\\matplotlib\\backends\\web_backend\\jquery-ui-1.12.1\\external\n",
      "  creating build\\lib.win-amd64-3.8\\matplotlib\\backends\\web_backend\\jquery-ui-1.12.1\\external\\jquery\n",
      "  copying lib\\matplotlib\\backends\\web_backend\\jquery-ui-1.12.1\\external\\jquery\\jquery.js -> build\\lib.win-amd64-3.8\\matplotlib\\backends\\web_backend\\jquery-ui-1.12.1\\external\\jquery\n",
      "  copying lib\\matplotlib\\mpl-data\\images\\help.svg -> build\\lib.win-amd64-3.8\\matplotlib\\mpl-data\\images\n",
      "  copying lib\\matplotlib\\mpl-data\\fonts\\ttf\\STIXGeneral.ttf -> build\\lib.win-amd64-3.8\\matplotlib\\mpl-data\\fonts\\ttf\n",
      "  copying lib\\matplotlib\\mpl-data\\fonts\\pdfcorefonts\\Courier.afm -> build\\lib.win-amd64-3.8\\matplotlib\\mpl-data\\fonts\\pdfcorefonts\n",
      "  copying lib\\matplotlib\\mpl-data\\fonts\\ttf\\STIXNonUniIta.ttf -> build\\lib.win-amd64-3.8\\matplotlib\\mpl-data\\fonts\\ttf\n",
      "  copying lib\\matplotlib\\mpl-data\\fonts\\pdfcorefonts\\Times-Italic.afm -> build\\lib.win-amd64-3.8\\matplotlib\\mpl-data\\fonts\\pdfcorefonts\n",
      "  copying lib\\matplotlib\\mpl-data\\stylelib\\seaborn-pastel.mplstyle -> build\\lib.win-amd64-3.8\\matplotlib\\mpl-data\\stylelib\n",
      "  copying lib\\matplotlib\\mpl-data\\images\\move.pdf -> build\\lib.win-amd64-3.8\\matplotlib\\mpl-data\\images\n",
      "  copying lib\\matplotlib\\mpl-data\\fonts\\ttf\\DejaVuSans.ttf -> build\\lib.win-amd64-3.8\\matplotlib\\mpl-data\\fonts\\ttf\n",
      "  copying lib\\matplotlib\\mpl-data\\stylelib\\Solarize_Light2.mplstyle -> build\\lib.win-amd64-3.8\\matplotlib\\mpl-data\\stylelib\n",
      "  copying lib\\matplotlib\\mpl-data\\sample_data\\logo2.png -> build\\lib.win-amd64-3.8\\matplotlib\\mpl-data\\sample_data\n",
      "  copying lib\\matplotlib\\backends\\web_backend\\jquery-ui-1.12.1\\jquery-ui.theme.css -> build\\lib.win-amd64-3.8\\matplotlib\\backends\\web_backend\\jquery-ui-1.12.1\n",
      "  copying lib\\matplotlib\\mpl-data\\fonts\\ttf\\STIXSizTwoSymBol.ttf -> build\\lib.win-amd64-3.8\\matplotlib\\mpl-data\\fonts\\ttf\n",
      "  copying lib\\matplotlib\\mpl-data\\images\\matplotlib.png -> build\\lib.win-amd64-3.8\\matplotlib\\mpl-data\\images\n",
      "  copying lib\\matplotlib\\mpl-data\\images\\filesave.svg -> build\\lib.win-amd64-3.8\\matplotlib\\mpl-data\\images\n",
      "  copying lib\\matplotlib\\mpl-data\\fonts\\ttf\\cmss10.ttf -> build\\lib.win-amd64-3.8\\matplotlib\\mpl-data\\fonts\\ttf\n",
      "  copying lib\\matplotlib\\mpl-data\\fonts\\afm\\pncb8a.afm -> build\\lib.win-amd64-3.8\\matplotlib\\mpl-data\\fonts\\afm\n",
      "  copying lib\\matplotlib\\mpl-data\\fonts\\afm\\ptmr8a.afm -> build\\lib.win-amd64-3.8\\matplotlib\\mpl-data\\fonts\\afm\n",
      "  copying lib\\matplotlib\\backends\\web_backend\\jquery-ui-1.12.1\\jquery-ui.structure.css -> build\\lib.win-amd64-3.8\\matplotlib\\backends\\web_backend\\jquery-ui-1.12.1\n",
      "  copying lib\\matplotlib\\mpl-data\\stylelib\\grayscale.mplstyle -> build\\lib.win-amd64-3.8\\matplotlib\\mpl-data\\stylelib\n",
      "  copying lib\\matplotlib\\mpl-data\\fonts\\ttf\\DejaVuSansDisplay.ttf -> build\\lib.win-amd64-3.8\\matplotlib\\mpl-data\\fonts\\ttf\n",
      "  copying lib\\matplotlib\\mpl-data\\stylelib\\seaborn-white.mplstyle -> build\\lib.win-amd64-3.8\\matplotlib\\mpl-data\\stylelib\n",
      "  copying lib\\matplotlib\\mpl-data\\fonts\\ttf\\cmr10.ttf -> build\\lib.win-amd64-3.8\\matplotlib\\mpl-data\\fonts\\ttf\n",
      "  copying lib\\matplotlib\\mpl-data\\fonts\\afm\\pbkli8a.afm -> build\\lib.win-amd64-3.8\\matplotlib\\mpl-data\\fonts\\afm\n",
      "  copying lib\\matplotlib\\mpl-data\\stylelib\\seaborn-ticks.mplstyle -> build\\lib.win-amd64-3.8\\matplotlib\\mpl-data\\stylelib\n",
      "  copying lib\\matplotlib\\backends\\web_backend\\css\\fbm.css -> build\\lib.win-amd64-3.8\\matplotlib\\backends\\web_backend\\css\n",
      "  copying lib\\matplotlib\\mpl-data\\images\\forward.png -> build\\lib.win-amd64-3.8\\matplotlib\\mpl-data\\images\n",
      "  copying lib\\matplotlib\\mpl-data\\fonts\\afm\\pagko8a.afm -> build\\lib.win-amd64-3.8\\matplotlib\\mpl-data\\fonts\\afm\n",
      "  copying lib\\matplotlib\\mpl-data\\fonts\\pdfcorefonts\\Times-Bold.afm -> build\\lib.win-amd64-3.8\\matplotlib\\mpl-data\\fonts\\pdfcorefonts\n",
      "  copying lib\\matplotlib\\mpl-data\\sample_data\\percent_bachelors_degrees_women_usa.csv -> build\\lib.win-amd64-3.8\\matplotlib\\mpl-data\\sample_data\n",
      "  copying lib\\matplotlib\\mpl-data\\images\\forward_large.gif -> build\\lib.win-amd64-3.8\\matplotlib\\mpl-data\\images\n",
      "  copying lib\\matplotlib\\mpl-data\\images\\home_large.png -> build\\lib.win-amd64-3.8\\matplotlib\\mpl-data\\images\n",
      "  copying lib\\matplotlib\\backends\\web_backend\\all_figures.html -> build\\lib.win-amd64-3.8\\matplotlib\\backends\\web_backend\n",
      "  copying lib\\matplotlib\\mpl-data\\fonts\\afm\\phvr8an.afm -> build\\lib.win-amd64-3.8\\matplotlib\\mpl-data\\fonts\\afm\n",
      "  copying lib\\matplotlib\\mpl-data\\images\\qt4_editor_options.svg -> build\\lib.win-amd64-3.8\\matplotlib\\mpl-data\\images\n",
      "  copying lib\\matplotlib\\mpl-data\\images\\back_large.png -> build\\lib.win-amd64-3.8\\matplotlib\\mpl-data\\images\n",
      "  copying lib\\matplotlib\\mpl-data\\fonts\\afm\\cmr10.afm -> build\\lib.win-amd64-3.8\\matplotlib\\mpl-data\\fonts\\afm\n",
      "  UPDATING build\\lib.win-amd64-3.8\\matplotlib\\_version.py\n",
      "  set build\\lib.win-amd64-3.8\\matplotlib\\_version.py to '3.1.1'\n",
      "  running build_ext\n",
      "  building 'matplotlib.ft2font' extension\n",
      "  creating build\\temp.win-amd64-3.8\n",
      "  creating build\\temp.win-amd64-3.8\\Release\n",
      "  creating build\\temp.win-amd64-3.8\\Release\\src\n",
      "  C:\\Program Files (x86)\\Microsoft Visual Studio\\2019\\Community\\VC\\Tools\\MSVC\\14.27.29110\\bin\\HostX86\\x64\\cl.exe /c /nologo /Ox /W3 /GL /DNDEBUG /MD -DFREETYPE_BUILD_TYPE=system -DPY_ARRAY_UNIQUE_SYMBOL=MPL_matplotlib_ft2font_ARRAY_API -DNPY_NO_DEPRECATED_API=NPY_1_7_API_VERSION -D__STDC_FORMAT_MACROS=1 -Iextern/agg24-svn/include -Ic:\\users\\keena\\anaconda3\\lib\\site-packages\\numpy\\core\\include -Ic:\\users\\keena\\anaconda3\\include -Ic:\\users\\keena\\anaconda3\\include \"-IC:\\Program Files (x86)\\Microsoft Visual Studio\\2019\\Community\\VC\\Tools\\MSVC\\14.27.29110\\ATLMFC\\include\" \"-IC:\\Program Files (x86)\\Microsoft Visual Studio\\2019\\Community\\VC\\Tools\\MSVC\\14.27.29110\\include\" \"-IC:\\Program Files (x86)\\Windows Kits\\10\\include\\10.0.18362.0\\ucrt\" \"-IC:\\Program Files (x86)\\Windows Kits\\10\\include\\10.0.18362.0\\shared\" \"-IC:\\Program Files (x86)\\Windows Kits\\10\\include\\10.0.18362.0\\um\" \"-IC:\\Program Files (x86)\\Windows Kits\\10\\include\\10.0.18362.0\\winrt\" \"-IC:\\Program Files (x86)\\Windows Kits\\10\\include\\10.0.18362.0\\cppwinrt\" /Tcsrc/checkdep_freetype2.c /Fobuild\\temp.win-amd64-3.8\\Release\\src/checkdep_freetype2.obj\n",
      "  checkdep_freetype2.c\n",
      "  src/checkdep_freetype2.c(1): fatal error C1083: Cannot open include file: 'ft2build.h': No such file or directory\n",
      "  error: command 'C:\\\\Program Files (x86)\\\\Microsoft Visual Studio\\\\2019\\\\Community\\\\VC\\\\Tools\\\\MSVC\\\\14.27.29110\\\\bin\\\\HostX86\\\\x64\\\\cl.exe' failed with exit status 2\n",
      "  ----------------------------------------\n",
      "  ERROR: Failed building wheel for matplotlib\n",
      "WARNING: Ignoring invalid distribution -illow (c:\\users\\keena\\anaconda3\\lib\\site-packages)\n",
      "    WARNING: Ignoring invalid distribution -illow (c:\\users\\keena\\anaconda3\\lib\\site-packages)\n",
      "ERROR: Could not install packages due to an OSError: [WinError 5] Access is denied: 'c:\\\\users\\\\keena\\\\anaconda3\\\\lib\\\\site-packages\\\\matplotlib\\\\backends\\\\_backend_agg.cp38-win_amd64.pyd'\n",
      "Consider using the `--user` option or check the permissions.\n",
      "\n",
      "WARNING: Ignoring invalid distribution -illow (c:\\users\\keena\\anaconda3\\lib\\site-packages)\n",
      "WARNING: Ignoring invalid distribution -illow (c:\\users\\keena\\anaconda3\\lib\\site-packages)\n"
     ]
    }
   ],
   "source": [
    "# ! pip install pdpbox"
   ]
  },
  {
   "cell_type": "markdown",
   "metadata": {},
   "source": [
    "While we encourage you to read the documentation for the package (and reading package documentation in general is a good habit to develop), the authors of the package have also written an excellent blog post on how to use it, showing examples on different algorithms from scikit-learn (the Random Forests example is towards the end of the blog post): https://briangriner.github.io/Partial_Dependence_Plots_presentation-BrianGriner-PrincetonPublicLibrary-4.14.18-updated-4.22.18.html"
   ]
  },
  {
   "cell_type": "markdown",
   "metadata": {},
   "source": [
    "So, armed with this new knowledge, feel free to pick a few features, and make a couple of Partial Dependence Plots of your own!"
   ]
  },
  {
   "cell_type": "code",
   "execution_count": null,
   "metadata": {},
   "outputs": [],
   "source": [
    "# Your code here!"
   ]
  },
  {
   "cell_type": "markdown",
   "metadata": {},
   "source": [
    "## (Optional) Advanced Boosting-Based Algorithms"
   ]
  },
  {
   "cell_type": "markdown",
   "metadata": {},
   "source": [
    "As explained in the video lectures, the next generation of algorithms after Random Forests (that use Bagging, a.k.a. Bootstrap Aggregation) were developed using Boosting, and the first one of these were Gradient Boosted Machines, which are implemented in scikit-learn (http://scikit-learn.org/stable/modules/ensemble.html#gradient-tree-boosting)."
   ]
  },
  {
   "cell_type": "markdown",
   "metadata": {},
   "source": [
    "Still, in recent years, a number of variations on GBMs have been developed by different research amd industry groups, all of them bringing improvements, both in speed, accuracy and functionality to the original Gradient Boosting algorithms.\n",
    "\n",
    "In no order of preference, these are:\n",
    "1. **XGBoost**: https://xgboost.readthedocs.io/en/latest/\n",
    "2. **CatBoost**: https://tech.yandex.com/catboost/\n",
    "3. **LightGBM**: https://lightgbm.readthedocs.io/en/latest/"
   ]
  },
  {
   "cell_type": "markdown",
   "metadata": {},
   "source": [
    "If you're using the Anaconda distribution, these are all very easy to install:"
   ]
  },
  {
   "cell_type": "code",
   "execution_count": null,
   "metadata": {},
   "outputs": [],
   "source": [
    "! conda install -c anaconda py-xgboost"
   ]
  },
  {
   "cell_type": "code",
   "execution_count": null,
   "metadata": {},
   "outputs": [],
   "source": [
    "! conda install -c conda-forge catboost"
   ]
  },
  {
   "cell_type": "code",
   "execution_count": null,
   "metadata": {},
   "outputs": [],
   "source": [
    "! conda install -c conda-forge lightgbm"
   ]
  },
  {
   "cell_type": "markdown",
   "metadata": {},
   "source": [
    "Your task in this optional section of the mini project is to read the documentation of these three libraries, and apply all of them to the \"German Credit\" dataset, just like you did in the case of Decision Trees and Random Forests."
   ]
  },
  {
   "cell_type": "markdown",
   "metadata": {},
   "source": [
    "The final deliverable of this section should be a table (can be a pandas DataFrame) which shows the accuracy of all the five algorthms taught in this mini project in one place."
   ]
  },
  {
   "cell_type": "markdown",
   "metadata": {},
   "source": [
    "Happy modeling! :)"
   ]
  },
  {
   "cell_type": "code",
   "execution_count": null,
   "metadata": {},
   "outputs": [],
   "source": []
  }
 ],
 "metadata": {
  "kernelspec": {
   "display_name": "Python 3",
   "language": "python",
   "name": "python3"
  },
  "language_info": {
   "codemirror_mode": {
    "name": "ipython",
    "version": 3
   },
   "file_extension": ".py",
   "mimetype": "text/x-python",
   "name": "python",
   "nbconvert_exporter": "python",
   "pygments_lexer": "ipython3",
   "version": "3.8.5"
  }
 },
 "nbformat": 4,
 "nbformat_minor": 2
}
