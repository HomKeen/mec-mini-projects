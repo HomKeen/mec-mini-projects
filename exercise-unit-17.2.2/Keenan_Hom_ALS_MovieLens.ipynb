{
  "nbformat": 4,
  "nbformat_minor": 0,
  "metadata": {
    "colab": {
      "name": "Keenan Hom- ALS_MovieLens.ipynb",
      "provenance": [],
      "collapsed_sections": []
    },
    "kernelspec": {
      "name": "python3",
      "display_name": "Python 3"
    },
    "language_info": {
      "name": "python"
    }
  },
  "cells": [
    {
      "cell_type": "code",
      "execution_count": 9,
      "metadata": {
        "colab": {
          "base_uri": "https://localhost:8080/"
        },
        "id": "dYLH0M9WGegG",
        "outputId": "acedf6f0-6cd0-4d17-8ccc-dff2165bcad4"
      },
      "outputs": [
        {
          "output_type": "stream",
          "name": "stdout",
          "text": [
            "Collecting recommenders\n",
            "  Using cached recommenders-0.7.0-py3-none-manylinux1_x86_64.whl (314 kB)\n",
            "Requirement already satisfied: numpy>=1.14 in /usr/local/lib/python3.7/dist-packages (from recommenders) (1.19.5)\n",
            "Collecting transformers<5,>=2.5.0\n",
            "  Using cached transformers-4.15.0-py3-none-any.whl (3.4 MB)\n",
            "Collecting scikit-surprise<=1.1.1,>=0.19.1\n",
            "  Using cached scikit-surprise-1.1.1.tar.gz (11.8 MB)\n",
            "Collecting memory-profiler<1,>=0.54.0\n",
            "  Using cached memory_profiler-0.60.0.tar.gz (38 kB)\n",
            "Requirement already satisfied: tqdm<5,>=4.31.1 in /usr/local/lib/python3.7/dist-packages (from recommenders) (4.62.3)\n",
            "Requirement already satisfied: matplotlib<4,>=2.2.2 in /usr/local/lib/python3.7/dist-packages (from recommenders) (3.2.2)\n",
            "Collecting scikit-learn<1,>=0.22.1\n",
            "  Using cached scikit_learn-0.24.2-cp37-cp37m-manylinux2010_x86_64.whl (22.3 MB)\n",
            "Requirement already satisfied: bottleneck<2,>=1.2.1 in /usr/local/lib/python3.7/dist-packages (from recommenders) (1.3.2)\n",
            "Requirement already satisfied: scipy<2,>=1.0.0 in /usr/local/lib/python3.7/dist-packages (from recommenders) (1.4.1)\n",
            "Requirement already satisfied: requests<3,>=2.0.0 in /usr/local/lib/python3.7/dist-packages (from recommenders) (2.23.0)\n",
            "Requirement already satisfied: jinja2<3,>=2 in /usr/local/lib/python3.7/dist-packages (from recommenders) (2.11.3)\n",
            "Collecting pymanopt<1,>=0.2.5\n",
            "  Using cached pymanopt-0.2.5-py3-none-any.whl (59 kB)\n",
            "Collecting lightfm<2,>=1.15\n",
            "  Using cached lightfm-1.16.tar.gz (310 kB)\n",
            "Collecting nltk<4,>=3.4\n",
            "  Using cached nltk-3.6.7-py3-none-any.whl (1.5 MB)\n",
            "Requirement already satisfied: lightgbm>=2.2.1 in /usr/local/lib/python3.7/dist-packages (from recommenders) (2.2.3)\n",
            "Requirement already satisfied: pandas<2,>1.0.3 in /usr/local/lib/python3.7/dist-packages (from recommenders) (1.1.5)\n",
            "Requirement already satisfied: seaborn<1,>=0.8.1 in /usr/local/lib/python3.7/dist-packages (from recommenders) (0.11.2)\n",
            "Requirement already satisfied: retrying>=1.3.3 in /usr/local/lib/python3.7/dist-packages (from recommenders) (1.3.3)\n",
            "Collecting pydocumentdb>=2.3.3<3\n",
            "  Using cached pydocumentdb-2.3.5-py3-none-any.whl (93 kB)\n",
            "Requirement already satisfied: numba<1,>=0.38.1 in /usr/local/lib/python3.7/dist-packages (from recommenders) (0.51.2)\n",
            "Collecting category-encoders<2,>=1.3.0\n",
            "  Using cached category_encoders-1.3.0-py2.py3-none-any.whl (61 kB)\n",
            "Collecting pyyaml<6,>=5.4.1\n",
            "  Using cached PyYAML-5.4.1-cp37-cp37m-manylinux1_x86_64.whl (636 kB)\n",
            "Collecting cornac<2,>=1.1.2\n",
            "  Using cached cornac-1.14.1-cp37-cp37m-manylinux1_x86_64.whl (12.4 MB)\n",
            "Requirement already satisfied: statsmodels>=0.6.1 in /usr/local/lib/python3.7/dist-packages (from category-encoders<2,>=1.3.0->recommenders) (0.10.2)\n",
            "Requirement already satisfied: patsy>=0.4.1 in /usr/local/lib/python3.7/dist-packages (from category-encoders<2,>=1.3.0->recommenders) (0.5.2)\n",
            "Collecting powerlaw\n",
            "  Using cached powerlaw-1.5-py3-none-any.whl (24 kB)\n",
            "Requirement already satisfied: MarkupSafe>=0.23 in /usr/local/lib/python3.7/dist-packages (from jinja2<3,>=2->recommenders) (2.0.1)\n",
            "Requirement already satisfied: pyparsing!=2.0.4,!=2.1.2,!=2.1.6,>=2.0.1 in /usr/local/lib/python3.7/dist-packages (from matplotlib<4,>=2.2.2->recommenders) (3.0.6)\n",
            "Requirement already satisfied: python-dateutil>=2.1 in /usr/local/lib/python3.7/dist-packages (from matplotlib<4,>=2.2.2->recommenders) (2.8.2)\n",
            "Requirement already satisfied: cycler>=0.10 in /usr/local/lib/python3.7/dist-packages (from matplotlib<4,>=2.2.2->recommenders) (0.11.0)\n",
            "Requirement already satisfied: kiwisolver>=1.0.1 in /usr/local/lib/python3.7/dist-packages (from matplotlib<4,>=2.2.2->recommenders) (1.3.2)\n",
            "Requirement already satisfied: psutil in /usr/local/lib/python3.7/dist-packages (from memory-profiler<1,>=0.54.0->recommenders) (5.4.8)\n",
            "Requirement already satisfied: joblib in /usr/local/lib/python3.7/dist-packages (from nltk<4,>=3.4->recommenders) (1.1.0)\n",
            "Requirement already satisfied: click in /usr/local/lib/python3.7/dist-packages (from nltk<4,>=3.4->recommenders) (7.1.2)\n",
            "Collecting regex>=2021.8.3\n",
            "  Using cached regex-2021.11.10-cp37-cp37m-manylinux_2_17_x86_64.manylinux2014_x86_64.whl (749 kB)\n",
            "Requirement already satisfied: setuptools in /usr/local/lib/python3.7/dist-packages (from numba<1,>=0.38.1->recommenders) (57.4.0)\n",
            "Requirement already satisfied: llvmlite<0.35,>=0.34.0.dev0 in /usr/local/lib/python3.7/dist-packages (from numba<1,>=0.38.1->recommenders) (0.34.0)\n",
            "Requirement already satisfied: pytz>=2017.2 in /usr/local/lib/python3.7/dist-packages (from pandas<2,>1.0.3->recommenders) (2018.9)\n",
            "Requirement already satisfied: six in /usr/local/lib/python3.7/dist-packages (from patsy>=0.4.1->category-encoders<2,>=1.3.0->recommenders) (1.15.0)\n",
            "Requirement already satisfied: idna<3,>=2.5 in /usr/local/lib/python3.7/dist-packages (from requests<3,>=2.0.0->recommenders) (2.10)\n",
            "Requirement already satisfied: chardet<4,>=3.0.2 in /usr/local/lib/python3.7/dist-packages (from requests<3,>=2.0.0->recommenders) (3.0.4)\n",
            "Requirement already satisfied: urllib3!=1.25.0,!=1.25.1,<1.26,>=1.21.1 in /usr/local/lib/python3.7/dist-packages (from requests<3,>=2.0.0->recommenders) (1.24.3)\n",
            "Requirement already satisfied: certifi>=2017.4.17 in /usr/local/lib/python3.7/dist-packages (from requests<3,>=2.0.0->recommenders) (2021.10.8)\n",
            "Requirement already satisfied: threadpoolctl>=2.0.0 in /usr/local/lib/python3.7/dist-packages (from scikit-learn<1,>=0.22.1->recommenders) (3.0.0)\n",
            "Collecting huggingface-hub<1.0,>=0.1.0\n",
            "  Using cached huggingface_hub-0.2.1-py3-none-any.whl (61 kB)\n",
            "Collecting tokenizers<0.11,>=0.10.1\n",
            "  Using cached tokenizers-0.10.3-cp37-cp37m-manylinux_2_5_x86_64.manylinux1_x86_64.manylinux_2_12_x86_64.manylinux2010_x86_64.whl (3.3 MB)\n",
            "Requirement already satisfied: packaging>=20.0 in /usr/local/lib/python3.7/dist-packages (from transformers<5,>=2.5.0->recommenders) (21.3)\n",
            "Requirement already satisfied: filelock in /usr/local/lib/python3.7/dist-packages (from transformers<5,>=2.5.0->recommenders) (3.4.0)\n",
            "Collecting sacremoses\n",
            "  Using cached sacremoses-0.0.46-py3-none-any.whl (895 kB)\n",
            "Requirement already satisfied: importlib-metadata in /usr/local/lib/python3.7/dist-packages (from transformers<5,>=2.5.0->recommenders) (4.8.2)\n",
            "Requirement already satisfied: typing-extensions>=3.7.4.3 in /usr/local/lib/python3.7/dist-packages (from huggingface-hub<1.0,>=0.1.0->transformers<5,>=2.5.0->recommenders) (3.10.0.2)\n",
            "Requirement already satisfied: zipp>=0.5 in /usr/local/lib/python3.7/dist-packages (from importlib-metadata->transformers<5,>=2.5.0->recommenders) (3.6.0)\n",
            "Requirement already satisfied: mpmath in /usr/local/lib/python3.7/dist-packages (from powerlaw->cornac<2,>=1.1.2->recommenders) (1.2.1)\n",
            "Building wheels for collected packages: lightfm, memory-profiler, scikit-surprise\n",
            "  Building wheel for lightfm (setup.py) ... \u001b[?25l\u001b[?25hdone\n",
            "  Created wheel for lightfm: filename=lightfm-1.16-cp37-cp37m-linux_x86_64.whl size=705352 sha256=028349cd8b4007cb3243da3ffffcb152f94445c3ffd2ecb5525479a00de688bc\n",
            "  Stored in directory: /root/.cache/pip/wheels/f8/56/28/5772a3bd3413d65f03aa452190b00898b680b10028a1021914\n",
            "  Building wheel for memory-profiler (setup.py) ... \u001b[?25l\u001b[?25hdone\n",
            "  Created wheel for memory-profiler: filename=memory_profiler-0.60.0-py3-none-any.whl size=31285 sha256=aca0f7a8ee49d8e4d1daad33fea18bc6e1cc50b26f85883a9f55d181414a21d0\n",
            "  Stored in directory: /root/.cache/pip/wheels/67/2b/fb/326e30d638c538e69a5eb0aa47f4223d979f502bbdb403950f\n",
            "  Building wheel for scikit-surprise (setup.py) ... \u001b[?25l\u001b[?25hdone\n",
            "  Created wheel for scikit-surprise: filename=scikit_surprise-1.1.1-cp37-cp37m-linux_x86_64.whl size=1619400 sha256=d3e5d0124512026ebab407e36212f8bfab08be677969fd418ffd4056a6cba7e4\n",
            "  Stored in directory: /root/.cache/pip/wheels/76/44/74/b498c42be47b2406bd27994e16c5188e337c657025ab400c1c\n",
            "Successfully built lightfm memory-profiler scikit-surprise\n",
            "Installing collected packages: regex, pyyaml, tokenizers, scikit-learn, sacremoses, powerlaw, huggingface-hub, transformers, scikit-surprise, pymanopt, pydocumentdb, nltk, memory-profiler, lightfm, cornac, category-encoders, recommenders\n",
            "  Attempting uninstall: regex\n",
            "    Found existing installation: regex 2019.12.20\n",
            "    Uninstalling regex-2019.12.20:\n",
            "      Successfully uninstalled regex-2019.12.20\n",
            "  Attempting uninstall: pyyaml\n",
            "    Found existing installation: PyYAML 3.13\n",
            "    Uninstalling PyYAML-3.13:\n",
            "      Successfully uninstalled PyYAML-3.13\n",
            "  Attempting uninstall: scikit-learn\n",
            "    Found existing installation: scikit-learn 1.0.1\n",
            "    Uninstalling scikit-learn-1.0.1:\n",
            "      Successfully uninstalled scikit-learn-1.0.1\n",
            "  Attempting uninstall: nltk\n",
            "    Found existing installation: nltk 3.2.5\n",
            "    Uninstalling nltk-3.2.5:\n",
            "      Successfully uninstalled nltk-3.2.5\n",
            "Successfully installed category-encoders-1.3.0 cornac-1.14.1 huggingface-hub-0.2.1 lightfm-1.16 memory-profiler-0.60.0 nltk-3.6.7 powerlaw-1.5 pydocumentdb-2.3.5 pymanopt-0.2.5 pyyaml-5.4.1 recommenders-0.7.0 regex-2021.11.10 sacremoses-0.0.46 scikit-learn-0.24.2 scikit-surprise-1.1.1 tokenizers-0.10.3 transformers-4.15.0\n"
          ]
        }
      ],
      "source": [
        "!pip install recommenders"
      ]
    },
    {
      "cell_type": "code",
      "source": [
        "!pip install pyspark"
      ],
      "metadata": {
        "colab": {
          "base_uri": "https://localhost:8080/"
        },
        "id": "TiwW9KUaGgme",
        "outputId": "64175d6d-ed97-40e3-f722-432e1af89bc1"
      },
      "execution_count": 10,
      "outputs": [
        {
          "output_type": "stream",
          "name": "stdout",
          "text": [
            "Collecting pyspark\n",
            "  Downloading pyspark-3.2.0.tar.gz (281.3 MB)\n",
            "\u001b[K     |████████████████████████████████| 281.3 MB 43 kB/s \n",
            "\u001b[?25hCollecting py4j==0.10.9.2\n",
            "  Downloading py4j-0.10.9.2-py2.py3-none-any.whl (198 kB)\n",
            "\u001b[K     |████████████████████████████████| 198 kB 66.0 MB/s \n",
            "\u001b[?25hBuilding wheels for collected packages: pyspark\n",
            "  Building wheel for pyspark (setup.py) ... \u001b[?25l\u001b[?25hdone\n",
            "  Created wheel for pyspark: filename=pyspark-3.2.0-py2.py3-none-any.whl size=281805912 sha256=c957e08848c902d4fba4000d93db1586063b752c08e56f7961bdf45ca8c82504\n",
            "  Stored in directory: /root/.cache/pip/wheels/0b/de/d2/9be5d59d7331c6c2a7c1b6d1a4f463ce107332b1ecd4e80718\n",
            "Successfully built pyspark\n",
            "Installing collected packages: py4j, pyspark\n",
            "Successfully installed py4j-0.10.9.2 pyspark-3.2.0\n"
          ]
        }
      ]
    },
    {
      "cell_type": "code",
      "source": [
        "import sys\n",
        "import pyspark"
      ],
      "metadata": {
        "id": "ugvBPYAbHCQH"
      },
      "execution_count": 11,
      "outputs": []
    },
    {
      "cell_type": "code",
      "source": [
        "from pyspark.ml.recommendation import ALS\n",
        "import pyspark.sql.functions as F\n",
        "from pyspark.sql import SparkSession\n",
        "from pyspark.sql.types import StructType, StructField\n",
        "from pyspark.sql.types import StringType, FloatType, IntegerType, LongType\n",
        "from recommenders.utils.timer import Timer\n",
        "from recommenders.datasets import movielens\n",
        "from recommenders.utils.notebook_utils import is_jupyter\n",
        "from recommenders.datasets.spark_splitters import spark_random_split\n",
        "from recommenders.evaluation.spark_evaluation import SparkRatingEvaluation, SparkRankingEvaluation\n",
        "from recommenders.utils.spark_utils import start_or_get_spark"
      ],
      "metadata": {
        "id": "ayZol6PYHWVA"
      },
      "execution_count": 12,
      "outputs": []
    },
    {
      "cell_type": "code",
      "source": [
        "top_k = 10 #top number of items to recommend\n",
        "movielens_size = '100k' #number of movies to retrieve\n",
        "col_user = 'UserId'\n",
        "col_item = 'MovieId'\n",
        "col_rating = 'Rating'\n",
        "col_timestamp = 'Timestamp'"
      ],
      "metadata": {
        "id": "EJQr7M-WHncG"
      },
      "execution_count": 13,
      "outputs": []
    },
    {
      "cell_type": "code",
      "source": [
        "#SETTING UP THE SPARK CONTEXT\n",
        "spark = start_or_get_spark('ALS PySpark', memory='16g')"
      ],
      "metadata": {
        "id": "PaS7-Id8IT1b"
      },
      "execution_count": 14,
      "outputs": []
    },
    {
      "cell_type": "code",
      "source": [
        "schema = StructType(\n",
        "    (\n",
        "        StructField(col_user, IntegerType()),\n",
        "        StructField(col_item, IntegerType()),\n",
        "        StructField(col_rating, FloatType()),\n",
        "        StructField(col_timestamp, LongType()),\n",
        "    )\n",
        ")"
      ],
      "metadata": {
        "id": "NVRfFjfoIgBG"
      },
      "execution_count": 15,
      "outputs": []
    },
    {
      "cell_type": "code",
      "source": [
        "data = movielens.load_spark_df(spark, size=movielens_size, schema=schema)"
      ],
      "metadata": {
        "colab": {
          "base_uri": "https://localhost:8080/"
        },
        "id": "a_WOu_BCIpdS",
        "outputId": "ea7c946f-2bb1-48f2-f589-ec5a89c8ef2a"
      },
      "execution_count": 16,
      "outputs": [
        {
          "output_type": "stream",
          "name": "stderr",
          "text": [
            "100%|██████████| 4.81k/4.81k [00:00<00:00, 7.65kKB/s]\n"
          ]
        }
      ]
    },
    {
      "cell_type": "code",
      "source": [
        "data.show()"
      ],
      "metadata": {
        "colab": {
          "base_uri": "https://localhost:8080/"
        },
        "id": "1dwS3hVgIxB4",
        "outputId": "91df4220-ec88-4fde-e8ca-9f5d5f387dcc"
      },
      "execution_count": 17,
      "outputs": [
        {
          "output_type": "stream",
          "name": "stdout",
          "text": [
            "+------+-------+------+---------+\n",
            "|UserId|MovieId|Rating|Timestamp|\n",
            "+------+-------+------+---------+\n",
            "|   196|    242|   3.0|881250949|\n",
            "|   186|    302|   3.0|891717742|\n",
            "|    22|    377|   1.0|878887116|\n",
            "|   244|     51|   2.0|880606923|\n",
            "|   166|    346|   1.0|886397596|\n",
            "|   298|    474|   4.0|884182806|\n",
            "|   115|    265|   2.0|881171488|\n",
            "|   253|    465|   5.0|891628467|\n",
            "|   305|    451|   3.0|886324817|\n",
            "|     6|     86|   3.0|883603013|\n",
            "|    62|    257|   2.0|879372434|\n",
            "|   286|   1014|   5.0|879781125|\n",
            "|   200|    222|   5.0|876042340|\n",
            "|   210|     40|   3.0|891035994|\n",
            "|   224|     29|   3.0|888104457|\n",
            "|   303|    785|   3.0|879485318|\n",
            "|   122|    387|   5.0|879270459|\n",
            "|   194|    274|   2.0|879539794|\n",
            "|   291|   1042|   4.0|874834944|\n",
            "|   234|   1184|   2.0|892079237|\n",
            "+------+-------+------+---------+\n",
            "only showing top 20 rows\n",
            "\n"
          ]
        }
      ]
    },
    {
      "cell_type": "code",
      "source": [
        "#Split into train and test \n",
        "train, test = spark_random_split(data, ratio=0.75, seed=123)\n",
        "print (\"N train\", train.cache().count())\n",
        "print (\"N test\", test.cache().count())"
      ],
      "metadata": {
        "colab": {
          "base_uri": "https://localhost:8080/"
        },
        "id": "F-ucUEiGI3U9",
        "outputId": "fa3ac23a-0076-454d-c12c-1645f351371b"
      },
      "execution_count": 18,
      "outputs": [
        {
          "output_type": "stream",
          "name": "stdout",
          "text": [
            "N train 75018\n",
            "N test 24982\n"
          ]
        }
      ]
    },
    {
      "cell_type": "code",
      "source": [
        "header = {'userCol': col_user, 'itemCol': col_item, 'ratingCol': col_rating}\n",
        "als = ALS(\n",
        "    rank=10,\n",
        "    maxIter=15,\n",
        "    implicitPrefs=False,\n",
        "    regParam=0.05,\n",
        "    coldStartStrategy='drop',\n",
        "    nonnegative=False,\n",
        "    seed=42,\n",
        "    **header\n",
        ")"
      ],
      "metadata": {
        "id": "uAkYkF4dJHB9"
      },
      "execution_count": 19,
      "outputs": []
    },
    {
      "cell_type": "code",
      "source": [
        "with Timer() as train_time:\n",
        "  model = als.fit(train)\n",
        "print(f'Took {train_time.interval} seconds to train')"
      ],
      "metadata": {
        "colab": {
          "base_uri": "https://localhost:8080/"
        },
        "id": "xDM69PwnJXt0",
        "outputId": "08d5f5d3-f650-4c64-909e-e38ab7d883cf"
      },
      "execution_count": 20,
      "outputs": [
        {
          "output_type": "stream",
          "name": "stdout",
          "text": [
            "Took 14.903468817999965 seconds to train\n"
          ]
        }
      ]
    },
    {
      "cell_type": "code",
      "source": [
        "with Timer() as test_time:\n",
        "  users = train.select(col_user).distinct()\n",
        "  items = train.select(col_item).distinct()\n",
        "  user_item = users.crossJoin(items)\n",
        "  dfs_pred = model.transform(user_item)\n",
        "\n",
        "  dfs_pred_exclude_train = dfs_pred.alias(\"pred\").join(\n",
        "      train.alias(\"train\"), \n",
        "      (F.col(f'pred.{col_user}') == F.col(f'train.{col_user}')) & (F.col(f'pred.{col_item}') == F.col(f'train.{col_item}')), \n",
        "      how='outer'\n",
        "      )\n",
        "  \n",
        "  top_all = dfs_pred_exclude_train.filter(dfs_pred_exclude_train[f\"train.{col_rating}\"].isNull()) \\\n",
        "        .select('pred.' + col_user, 'pred.' + col_item, 'pred.' + \"prediction\")\n",
        "  top_all.cache().count()\n",
        "\n",
        "print(\"Took {} seconds for prediction.\".format(test_time.interval))\n"
      ],
      "metadata": {
        "colab": {
          "base_uri": "https://localhost:8080/"
        },
        "id": "qsQcY51eJl-m",
        "outputId": "2ea2b145-f074-4229-be44-74b1fb38132c"
      },
      "execution_count": 27,
      "outputs": [
        {
          "output_type": "stream",
          "name": "stdout",
          "text": [
            "Took 40.56677972499983 seconds for prediction.\n"
          ]
        }
      ]
    },
    {
      "cell_type": "code",
      "source": [
        "top_all.show()"
      ],
      "metadata": {
        "colab": {
          "base_uri": "https://localhost:8080/"
        },
        "id": "0Cu-NhAVKZ2B",
        "outputId": "cb499bfb-eb45-4675-eecc-319154d41ce8"
      },
      "execution_count": 28,
      "outputs": [
        {
          "output_type": "stream",
          "name": "stdout",
          "text": [
            "+------+-------+----------+\n",
            "|UserId|MovieId|prediction|\n",
            "+------+-------+----------+\n",
            "|     1|    587| 4.1602826|\n",
            "|     1|    869| 2.7732863|\n",
            "|     1|   1208|  2.033383|\n",
            "|     1|   1348| 1.0019257|\n",
            "|     1|   1357| 0.9430026|\n",
            "|     1|   1677| 2.8777318|\n",
            "|     2|     80|  2.351385|\n",
            "|     2|    472| 2.5865319|\n",
            "|     2|    582| 3.9548612|\n",
            "|     2|    838| 0.9482963|\n",
            "|     2|    975| 3.1133535|\n",
            "|     2|   1260| 1.9871743|\n",
            "|     2|   1325| 1.2368056|\n",
            "|     2|   1381| 3.5477588|\n",
            "|     2|   1530|   2.08829|\n",
            "|     3|     22| 3.1524537|\n",
            "|     3|     57| 3.6980162|\n",
            "|     3|     89| 3.9733813|\n",
            "|     3|    367| 3.6629045|\n",
            "|     3|   1091| 0.9144474|\n",
            "+------+-------+----------+\n",
            "only showing top 20 rows\n",
            "\n"
          ]
        }
      ]
    },
    {
      "cell_type": "code",
      "source": [
        "rank_eval = SparkRankingEvaluation(test, top_all, k = top_k, col_user=col_user, col_item=col_item, \n",
        "                                    col_rating=col_rating, col_prediction=\"prediction\", \n",
        "                                    relevancy_method=\"top_k\")"
      ],
      "metadata": {
        "colab": {
          "base_uri": "https://localhost:8080/"
        },
        "id": "lz4gBLUikbF1",
        "outputId": "afc7a81c-d2af-437e-e438-f32d929fb8f8"
      },
      "execution_count": 30,
      "outputs": [
        {
          "output_type": "stream",
          "name": "stderr",
          "text": [
            "/usr/local/lib/python3.7/dist-packages/pyspark/sql/context.py:127: FutureWarning: Deprecated in 3.0.0. Use SparkSession.builder.getOrCreate() instead.\n",
            "  FutureWarning\n"
          ]
        }
      ]
    },
    {
      "cell_type": "code",
      "source": [
        "print(\"Model:\\tALS\",\n",
        "      \"Top K:\\t%d\" % rank_eval.k,\n",
        "      \"MAP:\\t%f\" % rank_eval.map_at_k(),\n",
        "      \"NDCG:\\t%f\" % rank_eval.ndcg_at_k(),\n",
        "      \"Precision@K:\\t%f\" % rank_eval.precision_at_k(),\n",
        "      \"Recall@K:\\t%f\" % rank_eval.recall_at_k(), sep='\\n')"
      ],
      "metadata": {
        "colab": {
          "base_uri": "https://localhost:8080/"
        },
        "id": "pV6M82_Akfwp",
        "outputId": "618189d7-6edf-4c6e-b186-0bc294b58807"
      },
      "execution_count": 31,
      "outputs": [
        {
          "output_type": "stream",
          "name": "stdout",
          "text": [
            "Model:\tALS\n",
            "Top K:\t10\n",
            "MAP:\t0.006527\n",
            "NDCG:\t0.051718\n",
            "Precision@K:\t0.051274\n",
            "Recall@K:\t0.018840\n"
          ]
        }
      ]
    },
    {
      "cell_type": "code",
      "source": [
        "prediction = model.transform(test)\n",
        "prediction.cache().show()"
      ],
      "metadata": {
        "colab": {
          "base_uri": "https://localhost:8080/"
        },
        "id": "EF-NZKLGkryr",
        "outputId": "9f8f63b7-2725-441e-c458-40bb059802ac"
      },
      "execution_count": 32,
      "outputs": [
        {
          "output_type": "stream",
          "name": "stdout",
          "text": [
            "+------+-------+------+---------+----------+\n",
            "|UserId|MovieId|Rating|Timestamp|prediction|\n",
            "+------+-------+------+---------+----------+\n",
            "|   580|    148|   4.0|884125773| 3.4059548|\n",
            "|   406|    148|   3.0|879540276| 2.7134619|\n",
            "|   916|    148|   2.0|880843892| 2.2241986|\n",
            "|   663|    148|   4.0|889492989|  2.714362|\n",
            "|   330|    148|   4.0|876544781|   4.52321|\n",
            "|   935|    148|   4.0|884472892| 4.3838587|\n",
            "|   308|    148|   3.0|887740788| 2.6169493|\n",
            "|    20|    148|   5.0|879668713| 4.3721194|\n",
            "|   923|    148|   4.0|880387474| 3.9818575|\n",
            "|   455|    148|   3.0|879110346| 3.0764186|\n",
            "|    15|    148|   3.0|879456049| 2.9913845|\n",
            "|   374|    148|   4.0|880392992| 3.2223384|\n",
            "|   880|    148|   2.0|880167030| 2.8111982|\n",
            "|   677|    148|   4.0|889399265| 3.8451843|\n",
            "|    49|    148|   1.0|888068195| 1.3751594|\n",
            "|   244|    148|   2.0|880605071| 2.6781514|\n",
            "|    84|    148|   4.0|883452274| 3.6721768|\n",
            "|   627|    148|   3.0|879530463| 2.6362069|\n",
            "|   434|    148|   3.0|886724797| 3.0973828|\n",
            "|   793|    148|   4.0|875104498| 2.2886577|\n",
            "+------+-------+------+---------+----------+\n",
            "only showing top 20 rows\n",
            "\n"
          ]
        }
      ]
    },
    {
      "cell_type": "code",
      "source": [
        "rating_eval = SparkRatingEvaluation(test, prediction, col_user=col_user, col_item=col_user, \n",
        "                                    col_rating=col_rating, col_prediction=\"prediction\")\n",
        "\n",
        "print(\"Model:\\tALS rating prediction\",\n",
        "      \"RMSE:\\t%f\" % rating_eval.rmse(),\n",
        "      \"MAE:\\t%f\" % rating_eval.mae(),\n",
        "      \"Explained variance:\\t%f\" % rating_eval.exp_var(),\n",
        "      \"R squared:\\t%f\" % rating_eval.rsquared(), sep='\\n')\n",
        "'''\n",
        "Why is r-squared beloew zero??\n",
        "'''"
      ],
      "metadata": {
        "colab": {
          "base_uri": "https://localhost:8080/"
        },
        "id": "l6TXKLH3kwsh",
        "outputId": "a490c08e-4e19-4bc3-bf92-deeb447b4ad6"
      },
      "execution_count": 34,
      "outputs": [
        {
          "output_type": "stream",
          "name": "stderr",
          "text": [
            "/usr/local/lib/python3.7/dist-packages/pyspark/sql/context.py:127: FutureWarning: Deprecated in 3.0.0. Use SparkSession.builder.getOrCreate() instead.\n",
            "  FutureWarning\n"
          ]
        },
        {
          "output_type": "stream",
          "name": "stdout",
          "text": [
            "Model:\tALS rating prediction\n",
            "RMSE:\t1.247362\n",
            "MAE:\t0.987191\n",
            "Explained variance:\t-0.176321\n",
            "R squared:\t-0.180425\n"
          ]
        }
      ]
    },
    {
      "cell_type": "code",
      "source": [
        "if is_jupyter():\n",
        "    # Record results with papermill for tests\n",
        "    import papermill as pm\n",
        "    import scrapbook as sb\n",
        "    sb.glue(\"map\", rank_eval.map_at_k())\n",
        "    sb.glue(\"ndcg\", rank_eval.ndcg_at_k())\n",
        "    sb.glue(\"precision\", rank_eval.precision_at_k())\n",
        "    sb.glue(\"recall\", rank_eval.recall_at_k())\n",
        "    sb.glue(\"rmse\", rating_eval.rmse())\n",
        "    sb.glue(\"mae\", rating_eval.mae())\n",
        "    sb.glue(\"exp_var\", rating_eval.exp_var())\n",
        "    sb.glue(\"rsquared\", rating_eval.rsquared())\n",
        "    sb.glue(\"train_time\", train_time.interval)\n",
        "    sb.glue(\"test_time\", test_time.interval)"
      ],
      "metadata": {
        "id": "uEERbM7ok2YS"
      },
      "execution_count": 35,
      "outputs": []
    },
    {
      "cell_type": "code",
      "source": [
        "spark.stop()"
      ],
      "metadata": {
        "id": "3s98ooWflsmi"
      },
      "execution_count": 36,
      "outputs": []
    },
    {
      "cell_type": "code",
      "source": [
        ""
      ],
      "metadata": {
        "id": "J7dgYTLmlxRr"
      },
      "execution_count": null,
      "outputs": []
    }
  ]
}